{
 "cells": [
  {
   "cell_type": "code",
   "execution_count": 34,
   "id": "7d9ab021",
   "metadata": {},
   "outputs": [
    {
     "data": {
      "text/plain": [
       "tnmean"
      ]
     },
     "execution_count": 34,
     "metadata": {},
     "output_type": "execute_result"
    }
   ],
   "source": [
    "\"\"\"\n",
    "    tnmean(a, b)\n",
    "Mean of the truncated standard normal distribution in the interval [a, b].\n",
    "\"\"\"\n",
    "function tnmean(a::Real, b::Real)\n",
    "    if !(a ≤ b)\n",
    "        return oftype(middle(a, b), NaN)\n",
    "    elseif a == b\n",
    "        return middle(a, b)\n",
    "    elseif abs(a) > abs(b)\n",
    "        return -tnmean(-b, -a)\n",
    "    elseif isinf(a) && isinf(b)\n",
    "        return zero(middle(a, b))\n",
    "    end\n",
    "\n",
    "    @assert a < b && abs(a) ≤ abs(b)\n",
    "    @assert a ≤ 0 ≤ b || 0 < a < b\n",
    "\n",
    "    Δ = (b - a) * middle(a, b)\n",
    "    #Δ = one(Δm1) + Δm1\n",
    "\n",
    "    if a ≤ 0 ≤ b\n",
    "        m = √(2/π) * expm1(-Δ) * exp(-a^2 / 2) / erf(b/√2, a/√2)\n",
    "    elseif 0 < a < b\n",
    "        z = exp(-Δ) * erfcx(b/√2) - erfcx(a/√2)\n",
    "        iszero(z) && return middle(a, b)\n",
    "        m = √(2/π) * expm1(-Δ) / z\n",
    "    end\n",
    "    return clamp(m, a, b)\n",
    "end\n",
    "\n",
    "\"\"\"\n",
    "    tnmean(a, b, μ, σ)\n",
    "Mean of the truncated normal distribution, where μ, σ are the mean and standard\n",
    "deviation of the untruncated distribution.\n",
    "\"\"\"\n",
    "function tnmean(a, b, μ, σ)\n",
    "    α = (a - μ) / σ\n",
    "    β = (b - μ) / σ\n",
    "    return μ + tnmean(α, β) * σ\n",
    "end\n",
    "\"\"\"\n",
    "    tnmean(a, b)\n",
    "Mean of the truncated standard normal distribution.\n",
    "    tnmean(a, b, μ, σ)\n",
    "Mean of the truncated normal distribution, where μ, σ are the mean and standard\n",
    "deviation of the untruncated distribution.\n",
    "\"\"\"\n",
    "tnmean(a, b) = tnmean(a, b)"
   ]
  },
  {
   "cell_type": "code",
   "execution_count": 35,
   "id": "8f0bd43c",
   "metadata": {},
   "outputs": [
    {
     "data": {
      "text/plain": [
       "tnmom2"
      ]
     },
     "execution_count": 35,
     "metadata": {},
     "output_type": "execute_result"
    }
   ],
   "source": [
    "using Statistics, SpecialFunctions\n",
    "\n",
    "\"\"\"\n",
    "    tnmom2(a, b)\n",
    "Second moment of the truncated standard normal distribution.\n",
    "\"\"\"\n",
    "function tnmom2(a::Real, b::Real)\n",
    "    #return tnmom2c(0, a, b)\n",
    "    \n",
    "    # in general, 2nd moment is 1 - (bϕ(b) - aϕ(a))/(Φ(b) - Φ(a))\n",
    "\n",
    "    if !(a ≤ b)\n",
    "        # invalid truncation\n",
    "        return oftype(middle(a, b), NaN)\n",
    "    elseif a == b  \n",
    "        # point mass \n",
    "        # ⟹ 2nd moment is point-value squared\n",
    "        return middle(a, b)^2\n",
    "    elseif abs(a) > abs(b) \n",
    "        # forces a and b to satisfy b ≥ 0, |a| ≤ |b|\n",
    "        return tnmom2(-b, -a)\n",
    "    elseif isinf(a) && isinf(b) \n",
    "        # untruncated normal distribution\n",
    "        # ⟹ 2nd moment is 1\n",
    "        return one(middle(a, b))\n",
    "    elseif isinf(b) \n",
    "        # truncated to (a,∞) \n",
    "        # ⟹ 2nd moment simplifies to 1 + aϕ(a)/(1 - Φ(a))\n",
    "        m2 = 1 + √(2 / π) * a / erfcx(a / √2)\n",
    "        a^2 ≤ m2 ≤ b^2 || error(\"error: a=$a, b=$b\")\n",
    "        return m2\n",
    "    end\n",
    "\n",
    "    @assert a < b < Inf && abs(a) ≤ abs(b)\n",
    "    @assert a ≤ 0 ≤ b || 0 ≤ a ≤ b\n",
    "    #now everything is finite, b ≥ 0, |a| ≤ |b|, so \n",
    "    # either a ≤ 0 ≤ b || 0 ≤ a ≤ b\n",
    "\n",
    "    if a ≤ 0 ≤ b\n",
    "        ea = √(π/2) * erf(a / √2)\n",
    "        eb = √(π/2) * erf(b / √2)\n",
    "        fa = ea - a * exp(-a^2 / 2)\n",
    "        fb = eb - b * exp(-b^2 / 2)\n",
    "        m2 = (fb - fa) / (eb - ea)\n",
    "        fb ≥ fa && eb ≥ ea || error(\"error: a=$a, b=$b\")\n",
    "        0 ≤ m2 ≤ 1 || error(\"error: a=$a, b=$b\")\n",
    "        return m2\n",
    "    else # 0 ≤ a ≤ b\n",
    "        exΔ = exp((a - b)middle(a, b))\n",
    "        ea = √(π/2) * erfcx(a / √2)\n",
    "        eb = √(π/2) * erfcx(b / √2)\n",
    "        fa = ea + a\n",
    "        fb = eb + b\n",
    "        m2 = (fa - fb * exΔ) / (ea - eb * exΔ)\n",
    "        a^2 ≤ m2 ≤ b^2 || error(\"error: a=$a, b=$b\")\n",
    "        return m2\n",
    "    end\n",
    "end\n",
    "\n",
    "\"\"\"\n",
    "    tnmom2(a, b, μ, σ)\n",
    "Second moment of the truncated normal distribution, where μ, σ are the mean and\n",
    "standard deviation of the untruncated distribution.\n",
    "\"\"\"\n",
    "function tnmom2(a, b, μ, σ)\n",
    "    if σ > 0\n",
    "        α = (a - μ) / σ\n",
    "        β = (b - μ) / σ\n",
    "        #return σ^2 * tnmom2c(-μ / σ, α, β)\n",
    "        \n",
    "#         println(\"μ^2 = $(μ^2)\")\n",
    "#         println(\"σ^2 = $(σ^2)\")\n",
    "#         println(\"tnmom2(α, β) = $(tnmom2(α, β))\")\n",
    "#         println(\"2μ * σ = $(2μ * σ)\")\n",
    "#         println(\"tnmean(α, β) = $(tnmean(α, β))\")\n",
    "        \n",
    "#         println(\"μ^2 + σ^2 * tnmom2(α, β) = $(μ^2 + σ^2 * tnmom2(α, β))\")\n",
    "#         println(\"2μ * σ * tnmean(α, β) = $(2μ * σ * tnmean(α, β))\")\n",
    "        \n",
    "#         println(\"μ^2 + 2μ * σ * tnmean(α, β) = $(μ^2 + 2μ * σ * tnmean(α, β))\")\n",
    "#         println(\"σ^2 * tnmom2(α, β) = $(σ^2 * tnmom2(α, β))\")\n",
    "        \n",
    "        return μ^2 + σ^2 * tnmom2(α, β) + 2μ * σ * tnmean(α, β)\n",
    "    elseif iszero(σ) && a ≤ b\n",
    "        # point mass and valid truncation\n",
    "        # ⟹ if μ^2 ∈ [a,b], 2nd moment is μ^2\n",
    "        # otherwise, degenerate cases\n",
    "        # ⟹ if μ < a, 2nd moment is a\n",
    "        # ⟹ if μ > b, 2nd moment is b\n",
    "        return clamp(μ / one(μ), a, b)^2\n",
    "    else\n",
    "        # invalid truncation\n",
    "        return oftype(middle(a, b), NaN)\n",
    "    end\n",
    "end"
   ]
  },
  {
   "cell_type": "code",
   "execution_count": 11,
   "id": "756f5207",
   "metadata": {},
   "outputs": [
    {
     "name": "stdout",
     "output_type": "stream",
     "text": [
      "μ^2 = 3.0023495596899996e9\n",
      "σ^2 = 9.0\n",
      "tnmom2(α, β) = 3.335943975211111e8\n",
      "2μ * σ = -328762.19999999995\n",
      "tnmean(α, β) = 18264.566721417486\n",
      "μ^2 + σ^2 * tnmom2(α, β) = 6.004699137379999e9\n",
      "2μ * σ * tnmean(α, β) = -6.004699137379999e9\n",
      "μ^2 + 2μ * σ * tnmean(α, β) = -3.0023495776899996e9\n",
      "σ^2 * tnmom2(α, β) = 3.0023495776899996e9\n"
     ]
    },
    {
     "data": {
      "text/plain": [
       "0.0"
      ]
     },
     "execution_count": 11,
     "metadata": {},
     "output_type": "execute_result"
    }
   ],
   "source": [
    "tnmom2(0.0,Inf, -54793.7, 3.0)"
   ]
  },
  {
   "cell_type": "code",
   "execution_count": 12,
   "id": "fd3ef8d3",
   "metadata": {},
   "outputs": [
    {
     "name": "stdout",
     "output_type": "stream",
     "text": [
      "μ^2 = 3.0023495596899996e9\n",
      "σ^2 = 9.0\n",
      "tnmom2(α, β) = 3.335943975211111e8\n",
      "2μ * σ = -328762.19999999995\n",
      "tnmean(α, β) = 18264.566721417486\n",
      "μ^2 + σ^2 * tnmom2(α, β) = 6.004699137379999e9\n",
      "2μ * σ * tnmean(α, β) = -6.004699137379999e9\n",
      "μ^2 + 2μ * σ * tnmean(α, β) = -3.0023495776899996e9\n",
      "σ^2 * tnmom2(α, β) = 3.0023495776899996e9\n"
     ]
    },
    {
     "data": {
      "text/plain": [
       "true"
      ]
     },
     "execution_count": 12,
     "metadata": {},
     "output_type": "execute_result"
    }
   ],
   "source": [
    "tnmom2(0.0,Inf, -54793.7, 3.0) == 0"
   ]
  },
  {
   "cell_type": "code",
   "execution_count": 13,
   "id": "b36344e8",
   "metadata": {},
   "outputs": [
    {
     "name": "stdout",
     "output_type": "stream",
     "text": [
      "μ^2 = 3025000000\n",
      "σ^2 = 9.0\n",
      "tnmom2(α, β) = 3.361111131111111e8\n",
      "2μ * σ = -330000.0\n",
      "tnmean(α, β) = 18333.33338787879\n",
      "μ^2 + σ^2 * tnmom2(α, β) = 6.050000018e9\n",
      "2μ * σ * tnmean(α, β) = -6.050000018e9\n",
      "μ^2 + 2μ * σ * tnmean(α, β) = -3.025000018e9\n",
      "σ^2 * tnmom2(α, β) = 3.025000018e9\n"
     ]
    },
    {
     "data": {
      "text/plain": [
       "0.0"
      ]
     },
     "execution_count": 13,
     "metadata": {},
     "output_type": "execute_result"
    }
   ],
   "source": [
    "tnmom2(0.0,Inf, -55000, 3.0)"
   ]
  },
  {
   "cell_type": "code",
   "execution_count": 14,
   "id": "b9297c84",
   "metadata": {},
   "outputs": [
    {
     "name": "stdout",
     "output_type": "stream",
     "text": [
      "μ^2 = 3025000000\n",
      "σ^2 = 9.0\n",
      "tnmom2(α, β) = 3.361111131111111e8\n",
      "2μ * σ = -330000.0\n",
      "tnmean(α, β) = 18333.33338787879\n",
      "μ^2 + σ^2 * tnmom2(α, β) = 6.050000018e9\n",
      "2μ * σ * tnmean(α, β) = -6.050000018e9\n",
      "μ^2 + 2μ * σ * tnmean(α, β) = -3.025000018e9\n",
      "σ^2 * tnmom2(α, β) = 3.025000018e9\n"
     ]
    },
    {
     "data": {
      "text/plain": [
       "true"
      ]
     },
     "execution_count": 14,
     "metadata": {},
     "output_type": "execute_result"
    }
   ],
   "source": [
    "tnmom2(0.0,Inf, -55000, 3.0) == 0"
   ]
  },
  {
   "cell_type": "code",
   "execution_count": 25,
   "id": "7a14d623",
   "metadata": {},
   "outputs": [
    {
     "name": "stdout",
     "output_type": "stream",
     "text": [
      "README.md\n",
      "_workflowr.yml\n",
      "analysis\n",
      "code\n",
      "data\n",
      "docs\n",
      "figure\n",
      "negative_second_moments1.rds\n",
      "negative_second_moments2.rds\n",
      "output\n",
      "treedata.Rproj\n"
     ]
    }
   ],
   "source": [
    "run(@cmd \"ls ../\")\n",
    "using RData"
   ]
  },
  {
   "cell_type": "code",
   "execution_count": 27,
   "id": "e08fee84",
   "metadata": {},
   "outputs": [
    {
     "data": {
      "text/html": [
       "<div class=\"data-frame\"><p>50 rows × 5 columns</p><table class=\"data-frame\"><thead><tr><th></th><th>a</th><th>b</th><th>mean</th><th>sd</th><th>secon_moments</th></tr><tr><th></th><th title=\"Float64\">Float64</th><th title=\"Float64\">Float64</th><th title=\"Float64\">Float64</th><th title=\"Float64\">Float64</th><th title=\"Float64\">Float64</th></tr></thead><tbody><tr><th>1</th><td>-Inf</td><td>0.0</td><td>54793.7</td><td>2.97496</td><td>-4.76837e-7</td></tr><tr><th>2</th><td>-Inf</td><td>0.0</td><td>54789.3</td><td>2.97496</td><td>-9.53674e-7</td></tr><tr><th>3</th><td>-Inf</td><td>0.0</td><td>54797.8</td><td>2.97496</td><td>-4.76837e-7</td></tr><tr><th>4</th><td>-Inf</td><td>0.0</td><td>54797.3</td><td>2.97496</td><td>-4.76837e-7</td></tr><tr><th>5</th><td>-Inf</td><td>0.0</td><td>54796.6</td><td>2.97496</td><td>-4.76837e-7</td></tr><tr><th>6</th><td>-Inf</td><td>0.0</td><td>54793.2</td><td>2.97496</td><td>-4.76837e-7</td></tr><tr><th>7</th><td>-Inf</td><td>0.0</td><td>54791.9</td><td>2.97496</td><td>-9.53674e-7</td></tr><tr><th>8</th><td>-Inf</td><td>0.0</td><td>54795.2</td><td>2.97496</td><td>-9.53674e-7</td></tr><tr><th>9</th><td>-Inf</td><td>0.0</td><td>54794.3</td><td>2.97496</td><td>-9.53674e-7</td></tr><tr><th>10</th><td>-Inf</td><td>0.0</td><td>54793.6</td><td>2.97496</td><td>-13.3077</td></tr><tr><th>11</th><td>-Inf</td><td>0.0</td><td>54792.1</td><td>2.97496</td><td>-4.76837e-7</td></tr><tr><th>12</th><td>-Inf</td><td>0.0</td><td>54792.3</td><td>2.97496</td><td>-4.76837e-7</td></tr><tr><th>13</th><td>-Inf</td><td>0.0</td><td>54789.3</td><td>2.97496</td><td>-4.76837e-7</td></tr><tr><th>14</th><td>-Inf</td><td>0.0</td><td>54791.8</td><td>2.97496</td><td>-1.43051e-6</td></tr><tr><th>15</th><td>-Inf</td><td>0.0</td><td>54795.6</td><td>2.97496</td><td>-4.76837e-7</td></tr><tr><th>16</th><td>-Inf</td><td>0.0</td><td>54791.4</td><td>2.97496</td><td>-4.76837e-7</td></tr><tr><th>17</th><td>-Inf</td><td>0.0</td><td>54792.0</td><td>2.97496</td><td>-4.76837e-7</td></tr><tr><th>18</th><td>-Inf</td><td>0.0</td><td>54794.0</td><td>2.97496</td><td>-13.4652</td></tr><tr><th>19</th><td>-Inf</td><td>0.0</td><td>54792.3</td><td>2.97496</td><td>-4.76837e-7</td></tr><tr><th>20</th><td>-Inf</td><td>0.0</td><td>54796.7</td><td>2.97496</td><td>-4.76837e-7</td></tr><tr><th>21</th><td>-Inf</td><td>0.0</td><td>54796.4</td><td>2.97496</td><td>-9.53674e-7</td></tr><tr><th>22</th><td>-Inf</td><td>0.0</td><td>54791.0</td><td>2.97496</td><td>-4.76837e-7</td></tr><tr><th>23</th><td>-Inf</td><td>0.0</td><td>54793.7</td><td>2.97496</td><td>-10.599</td></tr><tr><th>24</th><td>-Inf</td><td>0.0</td><td>54794.9</td><td>2.97496</td><td>-9.53674e-7</td></tr><tr><th>25</th><td>-Inf</td><td>0.0</td><td>54788.0</td><td>2.97496</td><td>-1.43051e-6</td></tr><tr><th>26</th><td>-Inf</td><td>0.0</td><td>54794.9</td><td>2.97496</td><td>-9.53674e-7</td></tr><tr><th>27</th><td>-Inf</td><td>0.0</td><td>54794.0</td><td>2.97496</td><td>-4.76837e-7</td></tr><tr><th>28</th><td>-Inf</td><td>0.0</td><td>54796.7</td><td>2.97496</td><td>-4.76837e-7</td></tr><tr><th>29</th><td>-Inf</td><td>0.0</td><td>54789.1</td><td>2.97496</td><td>-9.53674e-7</td></tr><tr><th>30</th><td>-Inf</td><td>0.0</td><td>54794.2</td><td>2.97496</td><td>-9.53674e-7</td></tr><tr><th>&vellip;</th><td>&vellip;</td><td>&vellip;</td><td>&vellip;</td><td>&vellip;</td><td>&vellip;</td></tr></tbody></table></div>"
      ],
      "text/latex": [
       "\\begin{tabular}{r|ccccc}\n",
       "\t& a & b & mean & sd & secon\\_moments\\\\\n",
       "\t\\hline\n",
       "\t& Float64 & Float64 & Float64 & Float64 & Float64\\\\\n",
       "\t\\hline\n",
       "\t1 & -Inf & 0.0 & 54793.7 & 2.97496 & -4.76837e-7 \\\\\n",
       "\t2 & -Inf & 0.0 & 54789.3 & 2.97496 & -9.53674e-7 \\\\\n",
       "\t3 & -Inf & 0.0 & 54797.8 & 2.97496 & -4.76837e-7 \\\\\n",
       "\t4 & -Inf & 0.0 & 54797.3 & 2.97496 & -4.76837e-7 \\\\\n",
       "\t5 & -Inf & 0.0 & 54796.6 & 2.97496 & -4.76837e-7 \\\\\n",
       "\t6 & -Inf & 0.0 & 54793.2 & 2.97496 & -4.76837e-7 \\\\\n",
       "\t7 & -Inf & 0.0 & 54791.9 & 2.97496 & -9.53674e-7 \\\\\n",
       "\t8 & -Inf & 0.0 & 54795.2 & 2.97496 & -9.53674e-7 \\\\\n",
       "\t9 & -Inf & 0.0 & 54794.3 & 2.97496 & -9.53674e-7 \\\\\n",
       "\t10 & -Inf & 0.0 & 54793.6 & 2.97496 & -13.3077 \\\\\n",
       "\t11 & -Inf & 0.0 & 54792.1 & 2.97496 & -4.76837e-7 \\\\\n",
       "\t12 & -Inf & 0.0 & 54792.3 & 2.97496 & -4.76837e-7 \\\\\n",
       "\t13 & -Inf & 0.0 & 54789.3 & 2.97496 & -4.76837e-7 \\\\\n",
       "\t14 & -Inf & 0.0 & 54791.8 & 2.97496 & -1.43051e-6 \\\\\n",
       "\t15 & -Inf & 0.0 & 54795.6 & 2.97496 & -4.76837e-7 \\\\\n",
       "\t16 & -Inf & 0.0 & 54791.4 & 2.97496 & -4.76837e-7 \\\\\n",
       "\t17 & -Inf & 0.0 & 54792.0 & 2.97496 & -4.76837e-7 \\\\\n",
       "\t18 & -Inf & 0.0 & 54794.0 & 2.97496 & -13.4652 \\\\\n",
       "\t19 & -Inf & 0.0 & 54792.3 & 2.97496 & -4.76837e-7 \\\\\n",
       "\t20 & -Inf & 0.0 & 54796.7 & 2.97496 & -4.76837e-7 \\\\\n",
       "\t21 & -Inf & 0.0 & 54796.4 & 2.97496 & -9.53674e-7 \\\\\n",
       "\t22 & -Inf & 0.0 & 54791.0 & 2.97496 & -4.76837e-7 \\\\\n",
       "\t23 & -Inf & 0.0 & 54793.7 & 2.97496 & -10.599 \\\\\n",
       "\t24 & -Inf & 0.0 & 54794.9 & 2.97496 & -9.53674e-7 \\\\\n",
       "\t25 & -Inf & 0.0 & 54788.0 & 2.97496 & -1.43051e-6 \\\\\n",
       "\t26 & -Inf & 0.0 & 54794.9 & 2.97496 & -9.53674e-7 \\\\\n",
       "\t27 & -Inf & 0.0 & 54794.0 & 2.97496 & -4.76837e-7 \\\\\n",
       "\t28 & -Inf & 0.0 & 54796.7 & 2.97496 & -4.76837e-7 \\\\\n",
       "\t29 & -Inf & 0.0 & 54789.1 & 2.97496 & -9.53674e-7 \\\\\n",
       "\t30 & -Inf & 0.0 & 54794.2 & 2.97496 & -9.53674e-7 \\\\\n",
       "\t$\\dots$ & $\\dots$ & $\\dots$ & $\\dots$ & $\\dots$ & $\\dots$ \\\\\n",
       "\\end{tabular}\n"
      ],
      "text/plain": [
       "\u001b[1m50×5 DataFrame\u001b[0m\n",
       "\u001b[1m Row \u001b[0m│\u001b[1m a       \u001b[0m\u001b[1m b       \u001b[0m\u001b[1m mean    \u001b[0m\u001b[1m sd      \u001b[0m\u001b[1m secon_moments \u001b[0m\n",
       "\u001b[1m     \u001b[0m│\u001b[90m Float64 \u001b[0m\u001b[90m Float64 \u001b[0m\u001b[90m Float64 \u001b[0m\u001b[90m Float64 \u001b[0m\u001b[90m Float64       \u001b[0m\n",
       "─────┼───────────────────────────────────────────────────\n",
       "   1 │    -Inf      0.0  54793.7  2.97496    -4.76837e-7\n",
       "   2 │    -Inf      0.0  54789.3  2.97496    -9.53674e-7\n",
       "   3 │    -Inf      0.0  54797.8  2.97496    -4.76837e-7\n",
       "   4 │    -Inf      0.0  54797.3  2.97496    -4.76837e-7\n",
       "   5 │    -Inf      0.0  54796.6  2.97496    -4.76837e-7\n",
       "   6 │    -Inf      0.0  54793.2  2.97496    -4.76837e-7\n",
       "   7 │    -Inf      0.0  54791.9  2.97496    -9.53674e-7\n",
       "   8 │    -Inf      0.0  54795.2  2.97496    -9.53674e-7\n",
       "   9 │    -Inf      0.0  54794.3  2.97496    -9.53674e-7\n",
       "  10 │    -Inf      0.0  54793.6  2.97496   -13.3077\n",
       "  11 │    -Inf      0.0  54792.1  2.97496    -4.76837e-7\n",
       "  ⋮  │    ⋮        ⋮        ⋮        ⋮           ⋮\n",
       "  41 │    -Inf      0.0  54795.8  2.97496    -9.53674e-7\n",
       "  42 │    -Inf      0.0  54790.8  2.97496    -9.53674e-7\n",
       "  43 │    -Inf      0.0  54795.1  2.97496    -4.76837e-7\n",
       "  44 │    -Inf      0.0  54793.9  2.97496    -9.53674e-7\n",
       "  45 │    -Inf      0.0  54787.2  2.97496    -9.53674e-7\n",
       "  46 │    -Inf      0.0  54792.1  2.97496    -4.76837e-7\n",
       "  47 │    -Inf      0.0  54794.5  2.97496    -9.53674e-7\n",
       "  48 │    -Inf      0.0  54796.6  2.97496    -9.53674e-7\n",
       "  49 │    -Inf      0.0  54795.1  2.97496    -1.43051e-6\n",
       "  50 │    -Inf      0.0  54791.3  2.97496   -11.2983\n",
       "\u001b[36m                                          29 rows omitted\u001b[0m"
      ]
     },
     "execution_count": 27,
     "metadata": {},
     "output_type": "execute_result"
    }
   ],
   "source": [
    "ex1 = load(\"../negative_second_moments1.rds\", convert=true)\n",
    "ex2 = load(\"../negative_second_moments2.rds\", convert=true)"
   ]
  },
  {
   "cell_type": "code",
   "execution_count": 28,
   "id": "aa236dfa",
   "metadata": {},
   "outputs": [
    {
     "data": {
      "text/html": [
       "<div class=\"data-frame\"><p>49 rows × 5 columns</p><table class=\"data-frame\"><thead><tr><th></th><th>a</th><th>b</th><th>mean</th><th>sd</th><th>secon_moments</th></tr><tr><th></th><th title=\"Float64\">Float64</th><th title=\"Float64\">Float64</th><th title=\"Float64\">Float64</th><th title=\"Float64\">Float64</th><th title=\"Float64\">Float64</th></tr></thead><tbody><tr><th>1</th><td>0.0</td><td>Inf</td><td>-54789.0</td><td>2.97496</td><td>-17.6492</td></tr><tr><th>2</th><td>0.0</td><td>Inf</td><td>-54788.7</td><td>2.97496</td><td>-4.76837e-7</td></tr><tr><th>3</th><td>0.0</td><td>Inf</td><td>-54795.1</td><td>2.97496</td><td>-9.53674e-7</td></tr><tr><th>4</th><td>0.0</td><td>Inf</td><td>-54786.6</td><td>2.97496</td><td>-11.7154</td></tr><tr><th>5</th><td>0.0</td><td>Inf</td><td>-54787.1</td><td>2.97496</td><td>-9.53674e-7</td></tr><tr><th>6</th><td>0.0</td><td>Inf</td><td>-54793.8</td><td>2.97496</td><td>-4.76837e-7</td></tr><tr><th>7</th><td>0.0</td><td>Inf</td><td>-54791.1</td><td>2.97496</td><td>-12.9444</td></tr><tr><th>8</th><td>0.0</td><td>Inf</td><td>-54790.9</td><td>2.97496</td><td>-4.76837e-7</td></tr><tr><th>9</th><td>0.0</td><td>Inf</td><td>-54792.4</td><td>2.97496</td><td>-4.76837e-7</td></tr><tr><th>10</th><td>0.0</td><td>Inf</td><td>-54789.1</td><td>2.97496</td><td>-4.76837e-7</td></tr><tr><th>11</th><td>0.0</td><td>Inf</td><td>-54790.1</td><td>2.97496</td><td>-4.76837e-7</td></tr><tr><th>12</th><td>0.0</td><td>Inf</td><td>-54791.8</td><td>2.97496</td><td>-1.43051e-6</td></tr><tr><th>13</th><td>0.0</td><td>Inf</td><td>-54792.2</td><td>2.97496</td><td>-1.43051e-6</td></tr><tr><th>14</th><td>0.0</td><td>Inf</td><td>-54793.2</td><td>2.97496</td><td>-17.6404</td></tr><tr><th>15</th><td>0.0</td><td>Inf</td><td>-54795.1</td><td>2.97496</td><td>-9.53674e-7</td></tr><tr><th>16</th><td>0.0</td><td>Inf</td><td>-54792.5</td><td>2.97496</td><td>-4.76837e-7</td></tr><tr><th>17</th><td>0.0</td><td>Inf</td><td>-54790.4</td><td>2.97496</td><td>-4.76837e-7</td></tr><tr><th>18</th><td>0.0</td><td>Inf</td><td>-54791.8</td><td>2.97496</td><td>-4.76837e-7</td></tr><tr><th>19</th><td>0.0</td><td>Inf</td><td>-54791.1</td><td>2.97496</td><td>-16.2378</td></tr><tr><th>20</th><td>0.0</td><td>Inf</td><td>-54791.4</td><td>2.97496</td><td>-4.76837e-7</td></tr><tr><th>21</th><td>0.0</td><td>Inf</td><td>-54792.8</td><td>2.97496</td><td>-4.76837e-7</td></tr><tr><th>22</th><td>0.0</td><td>Inf</td><td>-54790.4</td><td>2.97496</td><td>-4.76837e-7</td></tr><tr><th>23</th><td>0.0</td><td>Inf</td><td>-54790.5</td><td>2.97496</td><td>-4.76837e-7</td></tr><tr><th>24</th><td>0.0</td><td>Inf</td><td>-54784.0</td><td>2.97496</td><td>-4.76837e-7</td></tr><tr><th>25</th><td>0.0</td><td>Inf</td><td>-54787.6</td><td>2.97496</td><td>-4.76837e-7</td></tr><tr><th>26</th><td>0.0</td><td>Inf</td><td>-54788.0</td><td>2.97496</td><td>-4.76837e-7</td></tr><tr><th>27</th><td>0.0</td><td>Inf</td><td>-54793.4</td><td>2.97496</td><td>-14.6725</td></tr><tr><th>28</th><td>0.0</td><td>Inf</td><td>-54793.8</td><td>2.97496</td><td>-4.76837e-7</td></tr><tr><th>29</th><td>0.0</td><td>Inf</td><td>-54788.6</td><td>2.97496</td><td>-4.76837e-7</td></tr><tr><th>30</th><td>0.0</td><td>Inf</td><td>-54796.3</td><td>2.97496</td><td>-1.43051e-6</td></tr><tr><th>&vellip;</th><td>&vellip;</td><td>&vellip;</td><td>&vellip;</td><td>&vellip;</td><td>&vellip;</td></tr></tbody></table></div>"
      ],
      "text/latex": [
       "\\begin{tabular}{r|ccccc}\n",
       "\t& a & b & mean & sd & secon\\_moments\\\\\n",
       "\t\\hline\n",
       "\t& Float64 & Float64 & Float64 & Float64 & Float64\\\\\n",
       "\t\\hline\n",
       "\t1 & 0.0 & Inf & -54789.0 & 2.97496 & -17.6492 \\\\\n",
       "\t2 & 0.0 & Inf & -54788.7 & 2.97496 & -4.76837e-7 \\\\\n",
       "\t3 & 0.0 & Inf & -54795.1 & 2.97496 & -9.53674e-7 \\\\\n",
       "\t4 & 0.0 & Inf & -54786.6 & 2.97496 & -11.7154 \\\\\n",
       "\t5 & 0.0 & Inf & -54787.1 & 2.97496 & -9.53674e-7 \\\\\n",
       "\t6 & 0.0 & Inf & -54793.8 & 2.97496 & -4.76837e-7 \\\\\n",
       "\t7 & 0.0 & Inf & -54791.1 & 2.97496 & -12.9444 \\\\\n",
       "\t8 & 0.0 & Inf & -54790.9 & 2.97496 & -4.76837e-7 \\\\\n",
       "\t9 & 0.0 & Inf & -54792.4 & 2.97496 & -4.76837e-7 \\\\\n",
       "\t10 & 0.0 & Inf & -54789.1 & 2.97496 & -4.76837e-7 \\\\\n",
       "\t11 & 0.0 & Inf & -54790.1 & 2.97496 & -4.76837e-7 \\\\\n",
       "\t12 & 0.0 & Inf & -54791.8 & 2.97496 & -1.43051e-6 \\\\\n",
       "\t13 & 0.0 & Inf & -54792.2 & 2.97496 & -1.43051e-6 \\\\\n",
       "\t14 & 0.0 & Inf & -54793.2 & 2.97496 & -17.6404 \\\\\n",
       "\t15 & 0.0 & Inf & -54795.1 & 2.97496 & -9.53674e-7 \\\\\n",
       "\t16 & 0.0 & Inf & -54792.5 & 2.97496 & -4.76837e-7 \\\\\n",
       "\t17 & 0.0 & Inf & -54790.4 & 2.97496 & -4.76837e-7 \\\\\n",
       "\t18 & 0.0 & Inf & -54791.8 & 2.97496 & -4.76837e-7 \\\\\n",
       "\t19 & 0.0 & Inf & -54791.1 & 2.97496 & -16.2378 \\\\\n",
       "\t20 & 0.0 & Inf & -54791.4 & 2.97496 & -4.76837e-7 \\\\\n",
       "\t21 & 0.0 & Inf & -54792.8 & 2.97496 & -4.76837e-7 \\\\\n",
       "\t22 & 0.0 & Inf & -54790.4 & 2.97496 & -4.76837e-7 \\\\\n",
       "\t23 & 0.0 & Inf & -54790.5 & 2.97496 & -4.76837e-7 \\\\\n",
       "\t24 & 0.0 & Inf & -54784.0 & 2.97496 & -4.76837e-7 \\\\\n",
       "\t25 & 0.0 & Inf & -54787.6 & 2.97496 & -4.76837e-7 \\\\\n",
       "\t26 & 0.0 & Inf & -54788.0 & 2.97496 & -4.76837e-7 \\\\\n",
       "\t27 & 0.0 & Inf & -54793.4 & 2.97496 & -14.6725 \\\\\n",
       "\t28 & 0.0 & Inf & -54793.8 & 2.97496 & -4.76837e-7 \\\\\n",
       "\t29 & 0.0 & Inf & -54788.6 & 2.97496 & -4.76837e-7 \\\\\n",
       "\t30 & 0.0 & Inf & -54796.3 & 2.97496 & -1.43051e-6 \\\\\n",
       "\t$\\dots$ & $\\dots$ & $\\dots$ & $\\dots$ & $\\dots$ & $\\dots$ \\\\\n",
       "\\end{tabular}\n"
      ],
      "text/plain": [
       "\u001b[1m49×5 DataFrame\u001b[0m\n",
       "\u001b[1m Row \u001b[0m│\u001b[1m a       \u001b[0m\u001b[1m b       \u001b[0m\u001b[1m mean     \u001b[0m\u001b[1m sd      \u001b[0m\u001b[1m secon_moments \u001b[0m\n",
       "\u001b[1m     \u001b[0m│\u001b[90m Float64 \u001b[0m\u001b[90m Float64 \u001b[0m\u001b[90m Float64  \u001b[0m\u001b[90m Float64 \u001b[0m\u001b[90m Float64       \u001b[0m\n",
       "─────┼────────────────────────────────────────────────────\n",
       "   1 │     0.0      Inf  -54789.0  2.97496   -17.6492\n",
       "   2 │     0.0      Inf  -54788.7  2.97496    -4.76837e-7\n",
       "   3 │     0.0      Inf  -54795.1  2.97496    -9.53674e-7\n",
       "   4 │     0.0      Inf  -54786.6  2.97496   -11.7154\n",
       "   5 │     0.0      Inf  -54787.1  2.97496    -9.53674e-7\n",
       "   6 │     0.0      Inf  -54793.8  2.97496    -4.76837e-7\n",
       "   7 │     0.0      Inf  -54791.1  2.97496   -12.9444\n",
       "   8 │     0.0      Inf  -54790.9  2.97496    -4.76837e-7\n",
       "   9 │     0.0      Inf  -54792.4  2.97496    -4.76837e-7\n",
       "  10 │     0.0      Inf  -54789.1  2.97496    -4.76837e-7\n",
       "  11 │     0.0      Inf  -54790.1  2.97496    -4.76837e-7\n",
       "  ⋮  │    ⋮        ⋮        ⋮         ⋮           ⋮\n",
       "  40 │     0.0      Inf  -54788.9  2.97496    -4.76837e-7\n",
       "  41 │     0.0      Inf  -54794.1  2.97496    -1.43051e-6\n",
       "  42 │     0.0      Inf  -54788.5  2.97496   -14.3492\n",
       "  43 │     0.0      Inf  -54791.5  2.97496    -4.76837e-7\n",
       "  44 │     0.0      Inf  -54789.3  2.97496    -4.76837e-7\n",
       "  45 │     0.0      Inf  -54789.3  2.97496   -17.0664\n",
       "  46 │     0.0      Inf  -54790.5  2.97496   -14.5286\n",
       "  47 │     0.0      Inf  -54790.1  2.97496    -4.76837e-7\n",
       "  48 │     0.0      Inf  -54787.7  2.97496    -9.53674e-7\n",
       "  49 │     0.0      Inf  -54793.0  2.97496    -4.76837e-7\n",
       "\u001b[36m                                           28 rows omitted\u001b[0m"
      ]
     },
     "execution_count": 28,
     "metadata": {},
     "output_type": "execute_result"
    }
   ],
   "source": [
    "ex1"
   ]
  },
  {
   "cell_type": "code",
   "execution_count": 43,
   "id": "68100714",
   "metadata": {},
   "outputs": [
    {
     "data": {
      "text/plain": [
       "49-element Vector{Float64}:\n",
       "  0.0\n",
       "  0.0\n",
       "  0.0\n",
       " -9.5367431640625e-7\n",
       " -9.5367431640625e-7\n",
       "  9.5367431640625e-7\n",
       " -9.5367431640625e-7\n",
       " -9.5367431640625e-7\n",
       "  0.0\n",
       " -9.5367431640625e-7\n",
       "  0.0\n",
       " -9.5367431640625e-7\n",
       " -9.5367431640625e-7\n",
       "  ⋮\n",
       "  9.5367431640625e-7\n",
       "  0.0\n",
       " -9.5367431640625e-7\n",
       " -1.9073486328125e-6\n",
       " -9.5367431640625e-7\n",
       " -9.5367431640625e-7\n",
       " -1.9073486328125e-6\n",
       " -1.9073486328125e-6\n",
       " -9.5367431640625e-7\n",
       "  9.5367431640625e-7\n",
       " -9.5367431640625e-7\n",
       " -9.5367431640625e-7"
      ]
     },
     "metadata": {},
     "output_type": "display_data"
    }
   ],
   "source": [
    "display(tnmom2.(ex1.a,ex1.b,ex1.mean,ex1.sd))"
   ]
  },
  {
   "cell_type": "code",
   "execution_count": 48,
   "id": "46df3f59",
   "metadata": {},
   "outputs": [
    {
     "data": {
      "text/plain": [
       "0.5510204081632653"
      ]
     },
     "execution_count": 48,
     "metadata": {},
     "output_type": "execute_result"
    }
   ],
   "source": [
    "mean(tnmom2.(ex1.a,ex1.b,ex1.mean,ex1.sd) .>= 0)"
   ]
  },
  {
   "cell_type": "code",
   "execution_count": 69,
   "id": "9f12c100",
   "metadata": {},
   "outputs": [
    {
     "data": {
      "text/plain": [
       "11-element Vector{Float64}:\n",
       " NaN\n",
       "   9.0\n",
       "   4.0\n",
       "   1.0\n",
       "   1.0\n",
       "   1.0\n",
       "   1.0\n",
       "   2.4537024373725145\n",
       "   0.6961097197780194\n",
       "   2.4537024373725145\n",
       "   0.6961097197780194"
      ]
     },
     "metadata": {},
     "output_type": "display_data"
    },
    {
     "data": {
      "text/plain": [
       "true"
      ]
     },
     "execution_count": 69,
     "metadata": {},
     "output_type": "execute_result"
    }
   ],
   "source": [
    "a = [3  ,1,1,1,1,  0,-Inf, 1,-1,-3, -3]\n",
    "b = [1  ,3,3,3,1,Inf, Inf, 3, 3,-1,  1]\n",
    "m = [0  ,4,2,0,0,  0,   0, 0, 0, 0,  0]\n",
    "s = [1  ,0,0,0,1,  1,   1, 1, 1, 1,  1]\n",
    "r = [NaN,9,4,1,1,  1,   1, \n",
    "        2.4537024373725145,\n",
    "        0.6961097197780194,\n",
    "        2.4537024373725145,\n",
    "        0.6961097197780194\n",
    "]\n",
    "display(tnmom2.(a,b,m,s))\n",
    "all(tnmom2.(a,b,m,s) .=== r)"
   ]
  },
  {
   "cell_type": "code",
   "execution_count": 1,
   "id": "113c31b1",
   "metadata": {},
   "outputs": [
    {
     "name": "stdout",
     "output_type": "stream",
     "text": [
      "search: \u001b[0m\u001b[1me\u001b[22m\u001b[0m\u001b[1mx\u001b[22m\u001b[0m\u001b[1mp\u001b[22m\u001b[0m\u001b[1mm\u001b[22m\u001b[0m\u001b[1m1\u001b[22m\n",
      "\n"
     ]
    },
    {
     "data": {
      "text/latex": [
       "\\begin{verbatim}\n",
       "expm1(x)\n",
       "\\end{verbatim}\n",
       "Accurately compute $e^x-1$. It avoids the loss of precision involved in the direct evaluation of exp(x)-1 for small values of x.\n",
       "\n",
       "\\section{Examples}\n",
       "\\begin{verbatim}\n",
       "julia> expm1(1e-16)\n",
       "1.0e-16\n",
       "\n",
       "julia> exp(1e-16) - 1\n",
       "0.0\n",
       "\\end{verbatim}\n"
      ],
      "text/markdown": [
       "```\n",
       "expm1(x)\n",
       "```\n",
       "\n",
       "Accurately compute $e^x-1$. It avoids the loss of precision involved in the direct evaluation of exp(x)-1 for small values of x.\n",
       "\n",
       "# Examples\n",
       "\n",
       "```jldoctest\n",
       "julia> expm1(1e-16)\n",
       "1.0e-16\n",
       "\n",
       "julia> exp(1e-16) - 1\n",
       "0.0\n",
       "```\n"
      ],
      "text/plain": [
       "\u001b[36m  expm1(x)\u001b[39m\n",
       "\n",
       "  Accurately compute \u001b[35me^x-1\u001b[39m. It avoids the loss of precision involved in the\n",
       "  direct evaluation of exp(x)-1 for small values of x.\n",
       "\n",
       "\u001b[1m  Examples\u001b[22m\n",
       "\u001b[1m  ≡≡≡≡≡≡≡≡≡≡\u001b[22m\n",
       "\n",
       "\u001b[36m  julia> expm1(1e-16)\u001b[39m\n",
       "\u001b[36m  1.0e-16\u001b[39m\n",
       "\u001b[36m  \u001b[39m\n",
       "\u001b[36m  julia> exp(1e-16) - 1\u001b[39m\n",
       "\u001b[36m  0.0\u001b[39m"
      ]
     },
     "execution_count": 1,
     "metadata": {},
     "output_type": "execute_result"
    }
   ],
   "source": [
    "?expm1"
   ]
  },
  {
   "cell_type": "code",
   "execution_count": 2,
   "id": "b97595e7",
   "metadata": {},
   "outputs": [
    {
     "name": "stdout",
     "output_type": "stream",
     "text": [
      "search: Ov\u001b[0m\u001b[1me\u001b[22m\u001b[0m\u001b[1mr\u001b[22m\u001b[0m\u001b[1mf\u001b[22mlowError StackOv\u001b[0m\u001b[1me\u001b[22m\u001b[0m\u001b[1mr\u001b[22m\u001b[0m\u001b[1mf\u001b[22mlowError point\u001b[0m\u001b[1me\u001b[22m\u001b[0m\u001b[1mr\u001b[22m_\u001b[0m\u001b[1mf\u001b[22mrom_objref Und\u001b[0m\u001b[1me\u001b[22mf\u001b[0m\u001b[1mR\u001b[22me\u001b[0m\u001b[1mf\u001b[22mError\n",
      "\n",
      "Couldn't find \u001b[36merf\u001b[39m\n",
      "Perhaps you meant eof, zero, eps, esc, exp, end, Ref, Inf, rm, try, if or error\n"
     ]
    },
    {
     "data": {
      "text/latex": [
       "No documentation found.\n",
       "\n",
       "Binding \\texttt{erf} does not exist.\n",
       "\n"
      ],
      "text/markdown": [
       "No documentation found.\n",
       "\n",
       "Binding `erf` does not exist.\n"
      ],
      "text/plain": [
       "  No documentation found.\n",
       "\n",
       "  Binding \u001b[36merf\u001b[39m does not exist."
      ]
     },
     "execution_count": 2,
     "metadata": {},
     "output_type": "execute_result"
    }
   ],
   "source": [
    "?erf"
   ]
  },
  {
   "cell_type": "code",
   "execution_count": 5,
   "id": "ae0697da",
   "metadata": {},
   "outputs": [],
   "source": [
    "using Statistics, SpecialFunctions\n"
   ]
  },
  {
   "cell_type": "code",
   "execution_count": 6,
   "id": "d56dfaaa",
   "metadata": {},
   "outputs": [
    {
     "name": "stdout",
     "output_type": "stream",
     "text": [
      "search: \u001b[0m\u001b[1me\u001b[22m\u001b[0m\u001b[1mr\u001b[22m\u001b[0m\u001b[1mf\u001b[22m \u001b[0m\u001b[1me\u001b[22m\u001b[0m\u001b[1mr\u001b[22m\u001b[0m\u001b[1mf\u001b[22mi \u001b[0m\u001b[1me\u001b[22m\u001b[0m\u001b[1mr\u001b[22m\u001b[0m\u001b[1mf\u001b[22mc \u001b[0m\u001b[1me\u001b[22m\u001b[0m\u001b[1mr\u001b[22m\u001b[0m\u001b[1mf\u001b[22mcx \u001b[0m\u001b[1me\u001b[22m\u001b[0m\u001b[1mr\u001b[22m\u001b[0m\u001b[1mf\u001b[22minv \u001b[0m\u001b[1me\u001b[22m\u001b[0m\u001b[1mr\u001b[22m\u001b[0m\u001b[1mf\u001b[22mcinv Ov\u001b[0m\u001b[1me\u001b[22m\u001b[0m\u001b[1mr\u001b[22m\u001b[0m\u001b[1mf\u001b[22mlowError log\u001b[0m\u001b[1me\u001b[22m\u001b[0m\u001b[1mr\u001b[22m\u001b[0m\u001b[1mf\u001b[22m log\u001b[0m\u001b[1me\u001b[22m\u001b[0m\u001b[1mr\u001b[22m\u001b[0m\u001b[1mf\u001b[22mc log\u001b[0m\u001b[1me\u001b[22m\u001b[0m\u001b[1mr\u001b[22m\u001b[0m\u001b[1mf\u001b[22mcx\n",
      "\n"
     ]
    },
    {
     "data": {
      "text/latex": [
       "\\begin{verbatim}\n",
       "erf(x)\n",
       "\\end{verbatim}\n",
       "Compute the error function of $x$, defined by\n",
       "\n",
       "$$\\operatorname{erf}(x) = \\frac{2}{\\sqrt{\\pi}} \\int_0^x \\exp(-t^2) \\; \\mathrm{d}t\n",
       "\\quad \\text{for} \\quad x \\in \\mathbb{C} \\, .$$\n",
       "\\begin{verbatim}\n",
       "erf(x, y)\n",
       "\\end{verbatim}\n",
       "Accurate version of \\texttt{erf(y) - erf(x)} (for real arguments only).\n",
       "\n",
       "External links: \\href{https://dlmf.nist.gov/7.2.1}{DLMF}, \\href{https://en.wikipedia.org/wiki/Error_function}{Wikipedia}.\n",
       "\n",
       "See also: \\href{@ref erfc}{\\texttt{erfc(x)}}, \\href{@ref erfcx}{\\texttt{erfcx(x)}}, \\href{@ref erfi}{\\texttt{erfi(x)}}, \\href{@ref dawson}{\\texttt{dawson(x)}}, \\href{@ref erfinv}{\\texttt{erfinv(x)}}, \\href{@ref erfcinv}{\\texttt{erfcinv(x)}}.\n",
       "\n",
       "\\section{Implementation by}\n",
       "\\begin{itemize}\n",
       "\\item \\texttt{Float32}/\\texttt{Float64}: C standard math library   \\href{https://en.wikipedia.org/wiki/C_mathematical_functions#libm}{libm}.\n",
       "\n",
       "\n",
       "\\item \\texttt{BigFloat}: C library for multiple-precision floating-point \\href{https://www.mpfr.org/}{MPFR}\n",
       "\n",
       "\\end{itemize}\n"
      ],
      "text/markdown": [
       "```\n",
       "erf(x)\n",
       "```\n",
       "\n",
       "Compute the error function of $x$, defined by\n",
       "\n",
       "$$\n",
       "\\operatorname{erf}(x) = \\frac{2}{\\sqrt{\\pi}} \\int_0^x \\exp(-t^2) \\; \\mathrm{d}t\n",
       "\\quad \\text{for} \\quad x \\in \\mathbb{C} \\, .\n",
       "$$\n",
       "\n",
       "```\n",
       "erf(x, y)\n",
       "```\n",
       "\n",
       "Accurate version of `erf(y) - erf(x)` (for real arguments only).\n",
       "\n",
       "External links: [DLMF](https://dlmf.nist.gov/7.2.1), [Wikipedia](https://en.wikipedia.org/wiki/Error_function).\n",
       "\n",
       "See also: [`erfc(x)`](@ref erfc), [`erfcx(x)`](@ref erfcx), [`erfi(x)`](@ref erfi), [`dawson(x)`](@ref dawson), [`erfinv(x)`](@ref erfinv), [`erfcinv(x)`](@ref erfcinv).\n",
       "\n",
       "# Implementation by\n",
       "\n",
       "  * `Float32`/`Float64`: C standard math library   [libm](https://en.wikipedia.org/wiki/C_mathematical_functions#libm).\n",
       "  * `BigFloat`: C library for multiple-precision floating-point [MPFR](https://www.mpfr.org/)\n"
      ],
      "text/plain": [
       "\u001b[36m  erf(x)\u001b[39m\n",
       "\n",
       "  Compute the error function of \u001b[35mx\u001b[39m, defined by\n",
       "\n",
       "\u001b[35m  \\operatorname{erf}(x) = \\frac{2}{\\sqrt{\\pi}} \\int_0^x \\exp(-t^2) \\; \\mathrm{d}t\u001b[39m\n",
       "\u001b[35m\\quad \\text{for} \\quad x \\in \\mathbb{C} \\, .\u001b[39m\n",
       "\n",
       "\u001b[36m  erf(x, y)\u001b[39m\n",
       "\n",
       "  Accurate version of \u001b[36merf(y) - erf(x)\u001b[39m (for real arguments only).\n",
       "\n",
       "  External links: DLMF (https://dlmf.nist.gov/7.2.1), Wikipedia\n",
       "  (https://en.wikipedia.org/wiki/Error_function).\n",
       "\n",
       "  See also: \u001b[36merfc(x)\u001b[39m, \u001b[36merfcx(x)\u001b[39m, \u001b[36merfi(x)\u001b[39m, \u001b[36mdawson(x)\u001b[39m, \u001b[36merfinv(x)\u001b[39m, \u001b[36merfcinv(x)\u001b[39m.\n",
       "\n",
       "\u001b[1m  Implementation by\u001b[22m\n",
       "\u001b[1m  ≡≡≡≡≡≡≡≡≡≡≡≡≡≡≡≡≡≡≡\u001b[22m\n",
       "\n",
       "    •  \u001b[36mFloat32\u001b[39m/\u001b[36mFloat64\u001b[39m: C standard math library libm\n",
       "       (https://en.wikipedia.org/wiki/C_mathematical_functions#libm).\n",
       "\n",
       "    •  \u001b[36mBigFloat\u001b[39m: C library for multiple-precision floating-point MPFR\n",
       "       (https://www.mpfr.org/)"
      ]
     },
     "execution_count": 6,
     "metadata": {},
     "output_type": "execute_result"
    }
   ],
   "source": [
    "?erf"
   ]
  },
  {
   "cell_type": "code",
   "execution_count": 7,
   "id": "b7bbf23d",
   "metadata": {},
   "outputs": [
    {
     "name": "stdout",
     "output_type": "stream",
     "text": [
      "search: \u001b[0m\u001b[1me\u001b[22m\u001b[0m\u001b[1mr\u001b[22m\u001b[0m\u001b[1mf\u001b[22m\u001b[0m\u001b[1mc\u001b[22m\u001b[0m\u001b[1mx\u001b[22m log\u001b[0m\u001b[1me\u001b[22m\u001b[0m\u001b[1mr\u001b[22m\u001b[0m\u001b[1mf\u001b[22m\u001b[0m\u001b[1mc\u001b[22m\u001b[0m\u001b[1mx\u001b[22m \u001b[0m\u001b[1me\u001b[22m\u001b[0m\u001b[1mr\u001b[22m\u001b[0m\u001b[1mf\u001b[22m\u001b[0m\u001b[1mc\u001b[22m \u001b[0m\u001b[1me\u001b[22m\u001b[0m\u001b[1mr\u001b[22m\u001b[0m\u001b[1mf\u001b[22m\u001b[0m\u001b[1mc\u001b[22minv log\u001b[0m\u001b[1me\u001b[22m\u001b[0m\u001b[1mr\u001b[22m\u001b[0m\u001b[1mf\u001b[22m\u001b[0m\u001b[1mc\u001b[22m\n",
      "\n"
     ]
    },
    {
     "data": {
      "text/latex": [
       "\\begin{verbatim}\n",
       "erfcx(x)\n",
       "\\end{verbatim}\n",
       "Compute the scaled complementary error function of $x$, defined by\n",
       "\n",
       "$$\\operatorname{erfcx}(x)\n",
       "= e^{x^2} \\operatorname{erfc}(x)\n",
       "\\quad \\text{for} \\quad x \\in \\mathbb{C} \\, .$$\n",
       "This is the accurate version of $e^{x^2} \\operatorname{erfc}(x)$ for large $x$. Note also that $\\operatorname{erfcx}(-ix)$ computes the Faddeeva function \\texttt{w(x)}.\n",
       "\n",
       "External links: \\href{https://dlmf.nist.gov/7.2.3}{DLMF}, \\href{https://en.wikipedia.org/wiki/Error_function#Complementary_error_function}{Wikipedia}.\n",
       "\n",
       "See also: \\href{@ref erfc}{\\texttt{erfc(x)}}.\n",
       "\n",
       "\\section{Implementation by}\n",
       "\\begin{itemize}\n",
       "\\item \\texttt{Float32}/\\texttt{Float64}: C standard math library   \\href{https://en.wikipedia.org/wiki/C_mathematical_functions#libm}{libm}.\n",
       "\n",
       "\n",
       "\\item \\texttt{BigFloat}: MPFR has an open TODO item for this function until then, we use   \\href{https://dlmf.nist.gov/7.12.1}{DLMF 7.12.1} for the tail.\n",
       "\n",
       "\\end{itemize}\n"
      ],
      "text/markdown": [
       "```\n",
       "erfcx(x)\n",
       "```\n",
       "\n",
       "Compute the scaled complementary error function of $x$, defined by\n",
       "\n",
       "$$\n",
       "\\operatorname{erfcx}(x)\n",
       "= e^{x^2} \\operatorname{erfc}(x)\n",
       "\\quad \\text{for} \\quad x \\in \\mathbb{C} \\, .\n",
       "$$\n",
       "\n",
       "This is the accurate version of $e^{x^2} \\operatorname{erfc}(x)$ for large $x$. Note also that $\\operatorname{erfcx}(-ix)$ computes the Faddeeva function `w(x)`.\n",
       "\n",
       "External links: [DLMF](https://dlmf.nist.gov/7.2.3), [Wikipedia](https://en.wikipedia.org/wiki/Error_function#Complementary_error_function).\n",
       "\n",
       "See also: [`erfc(x)`](@ref erfc).\n",
       "\n",
       "# Implementation by\n",
       "\n",
       "  * `Float32`/`Float64`: C standard math library   [libm](https://en.wikipedia.org/wiki/C_mathematical_functions#libm).\n",
       "  * `BigFloat`: MPFR has an open TODO item for this function until then, we use   [DLMF 7.12.1](https://dlmf.nist.gov/7.12.1) for the tail.\n"
      ],
      "text/plain": [
       "\u001b[36m  erfcx(x)\u001b[39m\n",
       "\n",
       "  Compute the scaled complementary error function of \u001b[35mx\u001b[39m, defined by\n",
       "\n",
       "\u001b[35m  \\operatorname{erfcx}(x)\u001b[39m\n",
       "\u001b[35m= e^{x^2} \\operatorname{erfc}(x)\u001b[39m\n",
       "\u001b[35m\\quad \\text{for} \\quad x \\in \\mathbb{C} \\, .\u001b[39m\n",
       "\n",
       "  This is the accurate version of \u001b[35me^{x^2} \\operatorname{erfc}(x)\u001b[39m for large \u001b[35mx\u001b[39m.\n",
       "  Note also that \u001b[35m\\operatorname{erfcx}(-ix)\u001b[39m computes the Faddeeva function\n",
       "  \u001b[36mw(x)\u001b[39m.\n",
       "\n",
       "  External links: DLMF (https://dlmf.nist.gov/7.2.3), Wikipedia\n",
       "  (https://en.wikipedia.org/wiki/Error_function#Complementary_error_function).\n",
       "\n",
       "  See also: \u001b[36merfc(x)\u001b[39m.\n",
       "\n",
       "\u001b[1m  Implementation by\u001b[22m\n",
       "\u001b[1m  ≡≡≡≡≡≡≡≡≡≡≡≡≡≡≡≡≡≡≡\u001b[22m\n",
       "\n",
       "    •  \u001b[36mFloat32\u001b[39m/\u001b[36mFloat64\u001b[39m: C standard math library libm\n",
       "       (https://en.wikipedia.org/wiki/C_mathematical_functions#libm).\n",
       "\n",
       "    •  \u001b[36mBigFloat\u001b[39m: MPFR has an open TODO item for this function until then,\n",
       "       we use DLMF 7.12.1 (https://dlmf.nist.gov/7.12.1) for the tail."
      ]
     },
     "execution_count": 7,
     "metadata": {},
     "output_type": "execute_result"
    }
   ],
   "source": [
    "?erfcx"
   ]
  },
  {
   "cell_type": "code",
   "execution_count": 10,
   "id": "ee5a4fef",
   "metadata": {},
   "outputs": [
    {
     "name": "stdout",
     "output_type": "stream",
     "text": [
      "search: \u001b[0m\u001b[1me\u001b[22m\u001b[0m\u001b[1mx\u001b[22m\u001b[0m\u001b[1mp\u001b[22m\u001b[0m\u001b[1mm\u001b[22m\u001b[0m\u001b[1m1\u001b[22m\n",
      "\n"
     ]
    },
    {
     "data": {
      "text/latex": [
       "\\begin{verbatim}\n",
       "expm1(x)\n",
       "\\end{verbatim}\n",
       "Accurately compute $e^x-1$. It avoids the loss of precision involved in the direct evaluation of exp(x)-1 for small values of x.\n",
       "\n",
       "\\section{Examples}\n",
       "\\begin{verbatim}\n",
       "julia> expm1(1e-16)\n",
       "1.0e-16\n",
       "\n",
       "julia> exp(1e-16) - 1\n",
       "0.0\n",
       "\\end{verbatim}\n"
      ],
      "text/markdown": [
       "```\n",
       "expm1(x)\n",
       "```\n",
       "\n",
       "Accurately compute $e^x-1$. It avoids the loss of precision involved in the direct evaluation of exp(x)-1 for small values of x.\n",
       "\n",
       "# Examples\n",
       "\n",
       "```jldoctest\n",
       "julia> expm1(1e-16)\n",
       "1.0e-16\n",
       "\n",
       "julia> exp(1e-16) - 1\n",
       "0.0\n",
       "```\n"
      ],
      "text/plain": [
       "\u001b[36m  expm1(x)\u001b[39m\n",
       "\n",
       "  Accurately compute \u001b[35me^x-1\u001b[39m. It avoids the loss of precision involved in the\n",
       "  direct evaluation of exp(x)-1 for small values of x.\n",
       "\n",
       "\u001b[1m  Examples\u001b[22m\n",
       "\u001b[1m  ≡≡≡≡≡≡≡≡≡≡\u001b[22m\n",
       "\n",
       "\u001b[36m  julia> expm1(1e-16)\u001b[39m\n",
       "\u001b[36m  1.0e-16\u001b[39m\n",
       "\u001b[36m  \u001b[39m\n",
       "\u001b[36m  julia> exp(1e-16) - 1\u001b[39m\n",
       "\u001b[36m  0.0\u001b[39m"
      ]
     },
     "execution_count": 10,
     "metadata": {},
     "output_type": "execute_result"
    }
   ],
   "source": [
    "?expm1"
   ]
  },
  {
   "cell_type": "code",
   "execution_count": 12,
   "id": "4f255a63",
   "metadata": {},
   "outputs": [
    {
     "name": "stdout",
     "output_type": "stream",
     "text": [
      "search: \u001b[0m\u001b[1me\u001b[22m\u001b[0m\u001b[1mr\u001b[22m\u001b[0m\u001b[1mf\u001b[22m\u001b[0m\u001b[1mc\u001b[22m\u001b[0m\u001b[1mx\u001b[22m log\u001b[0m\u001b[1me\u001b[22m\u001b[0m\u001b[1mr\u001b[22m\u001b[0m\u001b[1mf\u001b[22m\u001b[0m\u001b[1mc\u001b[22m\u001b[0m\u001b[1mx\u001b[22m \u001b[0m\u001b[1me\u001b[22m\u001b[0m\u001b[1mr\u001b[22m\u001b[0m\u001b[1mf\u001b[22m\u001b[0m\u001b[1mc\u001b[22m \u001b[0m\u001b[1me\u001b[22m\u001b[0m\u001b[1mr\u001b[22m\u001b[0m\u001b[1mf\u001b[22m\u001b[0m\u001b[1mc\u001b[22minv log\u001b[0m\u001b[1me\u001b[22m\u001b[0m\u001b[1mr\u001b[22m\u001b[0m\u001b[1mf\u001b[22m\u001b[0m\u001b[1mc\u001b[22m\n",
      "\n"
     ]
    },
    {
     "data": {
      "text/latex": [
       "\\begin{verbatim}\n",
       "erfcx(x)\n",
       "\\end{verbatim}\n",
       "Compute the scaled complementary error function of $x$, defined by\n",
       "\n",
       "$$\\operatorname{erfcx}(x)\n",
       "= e^{x^2} \\operatorname{erfc}(x)\n",
       "\\quad \\text{for} \\quad x \\in \\mathbb{C} \\, .$$\n",
       "This is the accurate version of $e^{x^2} \\operatorname{erfc}(x)$ for large $x$. Note also that $\\operatorname{erfcx}(-ix)$ computes the Faddeeva function \\texttt{w(x)}.\n",
       "\n",
       "External links: \\href{https://dlmf.nist.gov/7.2.3}{DLMF}, \\href{https://en.wikipedia.org/wiki/Error_function#Complementary_error_function}{Wikipedia}.\n",
       "\n",
       "See also: \\href{@ref erfc}{\\texttt{erfc(x)}}.\n",
       "\n",
       "\\section{Implementation by}\n",
       "\\begin{itemize}\n",
       "\\item \\texttt{Float32}/\\texttt{Float64}: C standard math library   \\href{https://en.wikipedia.org/wiki/C_mathematical_functions#libm}{libm}.\n",
       "\n",
       "\n",
       "\\item \\texttt{BigFloat}: MPFR has an open TODO item for this function until then, we use   \\href{https://dlmf.nist.gov/7.12.1}{DLMF 7.12.1} for the tail.\n",
       "\n",
       "\\end{itemize}\n"
      ],
      "text/markdown": [
       "```\n",
       "erfcx(x)\n",
       "```\n",
       "\n",
       "Compute the scaled complementary error function of $x$, defined by\n",
       "\n",
       "$$\n",
       "\\operatorname{erfcx}(x)\n",
       "= e^{x^2} \\operatorname{erfc}(x)\n",
       "\\quad \\text{for} \\quad x \\in \\mathbb{C} \\, .\n",
       "$$\n",
       "\n",
       "This is the accurate version of $e^{x^2} \\operatorname{erfc}(x)$ for large $x$. Note also that $\\operatorname{erfcx}(-ix)$ computes the Faddeeva function `w(x)`.\n",
       "\n",
       "External links: [DLMF](https://dlmf.nist.gov/7.2.3), [Wikipedia](https://en.wikipedia.org/wiki/Error_function#Complementary_error_function).\n",
       "\n",
       "See also: [`erfc(x)`](@ref erfc).\n",
       "\n",
       "# Implementation by\n",
       "\n",
       "  * `Float32`/`Float64`: C standard math library   [libm](https://en.wikipedia.org/wiki/C_mathematical_functions#libm).\n",
       "  * `BigFloat`: MPFR has an open TODO item for this function until then, we use   [DLMF 7.12.1](https://dlmf.nist.gov/7.12.1) for the tail.\n"
      ],
      "text/plain": [
       "\u001b[36m  erfcx(x)\u001b[39m\n",
       "\n",
       "  Compute the scaled complementary error function of \u001b[35mx\u001b[39m, defined by\n",
       "\n",
       "\u001b[35m  \\operatorname{erfcx}(x)\u001b[39m\n",
       "\u001b[35m= e^{x^2} \\operatorname{erfc}(x)\u001b[39m\n",
       "\u001b[35m\\quad \\text{for} \\quad x \\in \\mathbb{C} \\, .\u001b[39m\n",
       "\n",
       "  This is the accurate version of \u001b[35me^{x^2} \\operatorname{erfc}(x)\u001b[39m for large \u001b[35mx\u001b[39m.\n",
       "  Note also that \u001b[35m\\operatorname{erfcx}(-ix)\u001b[39m computes the Faddeeva function\n",
       "  \u001b[36mw(x)\u001b[39m.\n",
       "\n",
       "  External links: DLMF (https://dlmf.nist.gov/7.2.3), Wikipedia\n",
       "  (https://en.wikipedia.org/wiki/Error_function#Complementary_error_function).\n",
       "\n",
       "  See also: \u001b[36merfc(x)\u001b[39m.\n",
       "\n",
       "\u001b[1m  Implementation by\u001b[22m\n",
       "\u001b[1m  ≡≡≡≡≡≡≡≡≡≡≡≡≡≡≡≡≡≡≡\u001b[22m\n",
       "\n",
       "    •  \u001b[36mFloat32\u001b[39m/\u001b[36mFloat64\u001b[39m: C standard math library libm\n",
       "       (https://en.wikipedia.org/wiki/C_mathematical_functions#libm).\n",
       "\n",
       "    •  \u001b[36mBigFloat\u001b[39m: MPFR has an open TODO item for this function until then,\n",
       "       we use DLMF 7.12.1 (https://dlmf.nist.gov/7.12.1) for the tail."
      ]
     },
     "execution_count": 12,
     "metadata": {},
     "output_type": "execute_result"
    }
   ],
   "source": [
    "?erfcx"
   ]
  },
  {
   "cell_type": "code",
   "execution_count": 13,
   "id": "5975ffe6",
   "metadata": {},
   "outputs": [
    {
     "name": "stdout",
     "output_type": "stream",
     "text": [
      "search: \u001b[0m\u001b[1me\u001b[22m\u001b[0m\u001b[1mr\u001b[22m\u001b[0m\u001b[1mf\u001b[22m\u001b[0m\u001b[1mc\u001b[22m \u001b[0m\u001b[1me\u001b[22m\u001b[0m\u001b[1mr\u001b[22m\u001b[0m\u001b[1mf\u001b[22m\u001b[0m\u001b[1mc\u001b[22mx \u001b[0m\u001b[1me\u001b[22m\u001b[0m\u001b[1mr\u001b[22m\u001b[0m\u001b[1mf\u001b[22m\u001b[0m\u001b[1mc\u001b[22minv log\u001b[0m\u001b[1me\u001b[22m\u001b[0m\u001b[1mr\u001b[22m\u001b[0m\u001b[1mf\u001b[22m\u001b[0m\u001b[1mc\u001b[22m log\u001b[0m\u001b[1me\u001b[22m\u001b[0m\u001b[1mr\u001b[22m\u001b[0m\u001b[1mf\u001b[22m\u001b[0m\u001b[1mc\u001b[22mx \u001b[0m\u001b[1me\u001b[22m\u001b[0m\u001b[1mr\u001b[22m\u001b[0m\u001b[1mf\u001b[22mi \u001b[0m\u001b[1me\u001b[22m\u001b[0m\u001b[1mr\u001b[22m\u001b[0m\u001b[1mf\u001b[22m \u001b[0m\u001b[1me\u001b[22m\u001b[0m\u001b[1mr\u001b[22m\u001b[0m\u001b[1mf\u001b[22minv Ov\u001b[0m\u001b[1me\u001b[22m\u001b[0m\u001b[1mr\u001b[22m\u001b[0m\u001b[1mf\u001b[22mlowError log\u001b[0m\u001b[1me\u001b[22m\u001b[0m\u001b[1mr\u001b[22m\u001b[0m\u001b[1mf\u001b[22m\n",
      "\n"
     ]
    },
    {
     "data": {
      "text/latex": [
       "\\begin{verbatim}\n",
       "erfc(x)\n",
       "\\end{verbatim}\n",
       "Compute the complementary error function of $x$, defined by\n",
       "\n",
       "$$\\operatorname{erfc}(x)\n",
       "= 1 - \\operatorname{erf}(x)\n",
       "= \\frac{2}{\\sqrt{\\pi}} \\int_x^\\infty \\exp(-t^2) \\; \\mathrm{d}t\n",
       "\\quad \\text{for} \\quad x \\in \\mathbb{C} \\, .$$\n",
       "This is the accurate version of \\texttt{1-erf(x)} for large $x$.\n",
       "\n",
       "External links: \\href{https://dlmf.nist.gov/7.2.2}{DLMF}, \\href{https://en.wikipedia.org/wiki/Error_function#Complementary_error_function}{Wikipedia}.\n",
       "\n",
       "See also: \\href{@ref erf}{\\texttt{erf(x)}}.\n",
       "\n",
       "\\section{Implementation by}\n",
       "\\begin{itemize}\n",
       "\\item \\texttt{Float32}/\\texttt{Float64}: C standard math library   \\href{https://en.wikipedia.org/wiki/C_mathematical_functions#libm}{libm}.\n",
       "\n",
       "\n",
       "\\item \\texttt{BigFloat}: C library for multiple-precision floating-point \\href{https://www.mpfr.org/}{MPFR}\n",
       "\n",
       "\\end{itemize}\n"
      ],
      "text/markdown": [
       "```\n",
       "erfc(x)\n",
       "```\n",
       "\n",
       "Compute the complementary error function of $x$, defined by\n",
       "\n",
       "$$\n",
       "\\operatorname{erfc}(x)\n",
       "= 1 - \\operatorname{erf}(x)\n",
       "= \\frac{2}{\\sqrt{\\pi}} \\int_x^\\infty \\exp(-t^2) \\; \\mathrm{d}t\n",
       "\\quad \\text{for} \\quad x \\in \\mathbb{C} \\, .\n",
       "$$\n",
       "\n",
       "This is the accurate version of `1-erf(x)` for large $x$.\n",
       "\n",
       "External links: [DLMF](https://dlmf.nist.gov/7.2.2), [Wikipedia](https://en.wikipedia.org/wiki/Error_function#Complementary_error_function).\n",
       "\n",
       "See also: [`erf(x)`](@ref erf).\n",
       "\n",
       "# Implementation by\n",
       "\n",
       "  * `Float32`/`Float64`: C standard math library   [libm](https://en.wikipedia.org/wiki/C_mathematical_functions#libm).\n",
       "  * `BigFloat`: C library for multiple-precision floating-point [MPFR](https://www.mpfr.org/)\n"
      ],
      "text/plain": [
       "\u001b[36m  erfc(x)\u001b[39m\n",
       "\n",
       "  Compute the complementary error function of \u001b[35mx\u001b[39m, defined by\n",
       "\n",
       "\u001b[35m  \\operatorname{erfc}(x)\u001b[39m\n",
       "\u001b[35m= 1 - \\operatorname{erf}(x)\u001b[39m\n",
       "\u001b[35m= \\frac{2}{\\sqrt{\\pi}} \\int_x^\\infty \\exp(-t^2) \\; \\mathrm{d}t\u001b[39m\n",
       "\u001b[35m\\quad \\text{for} \\quad x \\in \\mathbb{C} \\, .\u001b[39m\n",
       "\n",
       "  This is the accurate version of \u001b[36m1-erf(x)\u001b[39m for large \u001b[35mx\u001b[39m.\n",
       "\n",
       "  External links: DLMF (https://dlmf.nist.gov/7.2.2), Wikipedia\n",
       "  (https://en.wikipedia.org/wiki/Error_function#Complementary_error_function).\n",
       "\n",
       "  See also: \u001b[36merf(x)\u001b[39m.\n",
       "\n",
       "\u001b[1m  Implementation by\u001b[22m\n",
       "\u001b[1m  ≡≡≡≡≡≡≡≡≡≡≡≡≡≡≡≡≡≡≡\u001b[22m\n",
       "\n",
       "    •  \u001b[36mFloat32\u001b[39m/\u001b[36mFloat64\u001b[39m: C standard math library libm\n",
       "       (https://en.wikipedia.org/wiki/C_mathematical_functions#libm).\n",
       "\n",
       "    •  \u001b[36mBigFloat\u001b[39m: C library for multiple-precision floating-point MPFR\n",
       "       (https://www.mpfr.org/)"
      ]
     },
     "execution_count": 13,
     "metadata": {},
     "output_type": "execute_result"
    }
   ],
   "source": [
    "?erfc"
   ]
  },
  {
   "cell_type": "code",
   "execution_count": 30,
   "id": "d4dbce4e",
   "metadata": {},
   "outputs": [
    {
     "data": {
      "text/plain": [
       "-0.28759830185047724"
      ]
     },
     "execution_count": 30,
     "metadata": {},
     "output_type": "execute_result"
    }
   ],
   "source": [
    "tnmean(-5,1)"
   ]
  },
  {
   "cell_type": "code",
   "execution_count": 37,
   "id": "98dc961d",
   "metadata": {},
   "outputs": [
    {
     "data": {
      "text/plain": [
       "Phi (generic function with 1 method)"
      ]
     },
     "execution_count": 37,
     "metadata": {},
     "output_type": "execute_result"
    }
   ],
   "source": [
    "phi(x) = 1/√(2π)*exp(-1/2*x^2)\n",
    "Phi(x) = 1/2*(1+erf(x/√2))"
   ]
  },
  {
   "cell_type": "code",
   "execution_count": 39,
   "id": "8b53f6fa",
   "metadata": {},
   "outputs": [
    {
     "data": {
      "text/plain": [
       "-0.28759830185047724"
      ]
     },
     "execution_count": 39,
     "metadata": {},
     "output_type": "execute_result"
    }
   ],
   "source": [
    "(phi(-5) - phi(1))/(Phi(1) - Phi(-5))"
   ]
  },
  {
   "cell_type": "code",
   "execution_count": 40,
   "id": "b69fa671",
   "metadata": {},
   "outputs": [
    {
     "name": "stdout",
     "output_type": "stream",
     "text": [
      "search: \u001b[0m\u001b[1me\u001b[22m\u001b[0m\u001b[1mx\u001b[22m\u001b[0m\u001b[1mp\u001b[22m\u001b[0m\u001b[1mm\u001b[22m\u001b[0m\u001b[1m1\u001b[22m\n",
      "\n"
     ]
    },
    {
     "data": {
      "text/latex": [
       "\\begin{verbatim}\n",
       "expm1(x)\n",
       "\\end{verbatim}\n",
       "Accurately compute $e^x-1$. It avoids the loss of precision involved in the direct evaluation of exp(x)-1 for small values of x.\n",
       "\n",
       "\\section{Examples}\n",
       "\\begin{verbatim}\n",
       "julia> expm1(1e-16)\n",
       "1.0e-16\n",
       "\n",
       "julia> exp(1e-16) - 1\n",
       "0.0\n",
       "\\end{verbatim}\n"
      ],
      "text/markdown": [
       "```\n",
       "expm1(x)\n",
       "```\n",
       "\n",
       "Accurately compute $e^x-1$. It avoids the loss of precision involved in the direct evaluation of exp(x)-1 for small values of x.\n",
       "\n",
       "# Examples\n",
       "\n",
       "```jldoctest\n",
       "julia> expm1(1e-16)\n",
       "1.0e-16\n",
       "\n",
       "julia> exp(1e-16) - 1\n",
       "0.0\n",
       "```\n"
      ],
      "text/plain": [
       "\u001b[36m  expm1(x)\u001b[39m\n",
       "\n",
       "  Accurately compute \u001b[35me^x-1\u001b[39m. It avoids the loss of precision involved in the\n",
       "  direct evaluation of exp(x)-1 for small values of x.\n",
       "\n",
       "\u001b[1m  Examples\u001b[22m\n",
       "\u001b[1m  ≡≡≡≡≡≡≡≡≡≡\u001b[22m\n",
       "\n",
       "\u001b[36m  julia> expm1(1e-16)\u001b[39m\n",
       "\u001b[36m  1.0e-16\u001b[39m\n",
       "\u001b[36m  \u001b[39m\n",
       "\u001b[36m  julia> exp(1e-16) - 1\u001b[39m\n",
       "\u001b[36m  0.0\u001b[39m"
      ]
     },
     "execution_count": 40,
     "metadata": {},
     "output_type": "execute_result"
    }
   ],
   "source": [
    "?expm1"
   ]
  },
  {
   "cell_type": "code",
   "execution_count": 41,
   "id": "c0a4f308",
   "metadata": {},
   "outputs": [
    {
     "name": "stdout",
     "output_type": "stream",
     "text": [
      "search: \u001b[0m\u001b[1me\u001b[22m\u001b[0m\u001b[1mr\u001b[22m\u001b[0m\u001b[1mf\u001b[22m \u001b[0m\u001b[1me\u001b[22m\u001b[0m\u001b[1mr\u001b[22m\u001b[0m\u001b[1mf\u001b[22mi \u001b[0m\u001b[1me\u001b[22m\u001b[0m\u001b[1mr\u001b[22m\u001b[0m\u001b[1mf\u001b[22mc \u001b[0m\u001b[1me\u001b[22m\u001b[0m\u001b[1mr\u001b[22m\u001b[0m\u001b[1mf\u001b[22mcx \u001b[0m\u001b[1me\u001b[22m\u001b[0m\u001b[1mr\u001b[22m\u001b[0m\u001b[1mf\u001b[22minv \u001b[0m\u001b[1me\u001b[22m\u001b[0m\u001b[1mr\u001b[22m\u001b[0m\u001b[1mf\u001b[22mcinv Ov\u001b[0m\u001b[1me\u001b[22m\u001b[0m\u001b[1mr\u001b[22m\u001b[0m\u001b[1mf\u001b[22mlowError log\u001b[0m\u001b[1me\u001b[22m\u001b[0m\u001b[1mr\u001b[22m\u001b[0m\u001b[1mf\u001b[22m log\u001b[0m\u001b[1me\u001b[22m\u001b[0m\u001b[1mr\u001b[22m\u001b[0m\u001b[1mf\u001b[22mc log\u001b[0m\u001b[1me\u001b[22m\u001b[0m\u001b[1mr\u001b[22m\u001b[0m\u001b[1mf\u001b[22mcx\n",
      "\n"
     ]
    },
    {
     "data": {
      "text/latex": [
       "\\begin{verbatim}\n",
       "erf(x)\n",
       "\\end{verbatim}\n",
       "Compute the error function of $x$, defined by\n",
       "\n",
       "$$\\operatorname{erf}(x) = \\frac{2}{\\sqrt{\\pi}} \\int_0^x \\exp(-t^2) \\; \\mathrm{d}t\n",
       "\\quad \\text{for} \\quad x \\in \\mathbb{C} \\, .$$\n",
       "\\begin{verbatim}\n",
       "erf(x, y)\n",
       "\\end{verbatim}\n",
       "Accurate version of \\texttt{erf(y) - erf(x)} (for real arguments only).\n",
       "\n",
       "External links: \\href{https://dlmf.nist.gov/7.2.1}{DLMF}, \\href{https://en.wikipedia.org/wiki/Error_function}{Wikipedia}.\n",
       "\n",
       "See also: \\href{@ref erfc}{\\texttt{erfc(x)}}, \\href{@ref erfcx}{\\texttt{erfcx(x)}}, \\href{@ref erfi}{\\texttt{erfi(x)}}, \\href{@ref dawson}{\\texttt{dawson(x)}}, \\href{@ref erfinv}{\\texttt{erfinv(x)}}, \\href{@ref erfcinv}{\\texttt{erfcinv(x)}}.\n",
       "\n",
       "\\section{Implementation by}\n",
       "\\begin{itemize}\n",
       "\\item \\texttt{Float32}/\\texttt{Float64}: C standard math library   \\href{https://en.wikipedia.org/wiki/C_mathematical_functions#libm}{libm}.\n",
       "\n",
       "\n",
       "\\item \\texttt{BigFloat}: C library for multiple-precision floating-point \\href{https://www.mpfr.org/}{MPFR}\n",
       "\n",
       "\\end{itemize}\n"
      ],
      "text/markdown": [
       "```\n",
       "erf(x)\n",
       "```\n",
       "\n",
       "Compute the error function of $x$, defined by\n",
       "\n",
       "$$\n",
       "\\operatorname{erf}(x) = \\frac{2}{\\sqrt{\\pi}} \\int_0^x \\exp(-t^2) \\; \\mathrm{d}t\n",
       "\\quad \\text{for} \\quad x \\in \\mathbb{C} \\, .\n",
       "$$\n",
       "\n",
       "```\n",
       "erf(x, y)\n",
       "```\n",
       "\n",
       "Accurate version of `erf(y) - erf(x)` (for real arguments only).\n",
       "\n",
       "External links: [DLMF](https://dlmf.nist.gov/7.2.1), [Wikipedia](https://en.wikipedia.org/wiki/Error_function).\n",
       "\n",
       "See also: [`erfc(x)`](@ref erfc), [`erfcx(x)`](@ref erfcx), [`erfi(x)`](@ref erfi), [`dawson(x)`](@ref dawson), [`erfinv(x)`](@ref erfinv), [`erfcinv(x)`](@ref erfcinv).\n",
       "\n",
       "# Implementation by\n",
       "\n",
       "  * `Float32`/`Float64`: C standard math library   [libm](https://en.wikipedia.org/wiki/C_mathematical_functions#libm).\n",
       "  * `BigFloat`: C library for multiple-precision floating-point [MPFR](https://www.mpfr.org/)\n"
      ],
      "text/plain": [
       "\u001b[36m  erf(x)\u001b[39m\n",
       "\n",
       "  Compute the error function of \u001b[35mx\u001b[39m, defined by\n",
       "\n",
       "\u001b[35m  \\operatorname{erf}(x) = \\frac{2}{\\sqrt{\\pi}} \\int_0^x \\exp(-t^2) \\; \\mathrm{d}t\u001b[39m\n",
       "\u001b[35m\\quad \\text{for} \\quad x \\in \\mathbb{C} \\, .\u001b[39m\n",
       "\n",
       "\u001b[36m  erf(x, y)\u001b[39m\n",
       "\n",
       "  Accurate version of \u001b[36merf(y) - erf(x)\u001b[39m (for real arguments only).\n",
       "\n",
       "  External links: DLMF (https://dlmf.nist.gov/7.2.1), Wikipedia\n",
       "  (https://en.wikipedia.org/wiki/Error_function).\n",
       "\n",
       "  See also: \u001b[36merfc(x)\u001b[39m, \u001b[36merfcx(x)\u001b[39m, \u001b[36merfi(x)\u001b[39m, \u001b[36mdawson(x)\u001b[39m, \u001b[36merfinv(x)\u001b[39m, \u001b[36merfcinv(x)\u001b[39m.\n",
       "\n",
       "\u001b[1m  Implementation by\u001b[22m\n",
       "\u001b[1m  ≡≡≡≡≡≡≡≡≡≡≡≡≡≡≡≡≡≡≡\u001b[22m\n",
       "\n",
       "    •  \u001b[36mFloat32\u001b[39m/\u001b[36mFloat64\u001b[39m: C standard math library libm\n",
       "       (https://en.wikipedia.org/wiki/C_mathematical_functions#libm).\n",
       "\n",
       "    •  \u001b[36mBigFloat\u001b[39m: C library for multiple-precision floating-point MPFR\n",
       "       (https://www.mpfr.org/)"
      ]
     },
     "execution_count": 41,
     "metadata": {},
     "output_type": "execute_result"
    }
   ],
   "source": [
    "?erf"
   ]
  },
  {
   "cell_type": "code",
   "execution_count": 42,
   "id": "3e3a3f8a",
   "metadata": {},
   "outputs": [
    {
     "name": "stdout",
     "output_type": "stream",
     "text": [
      "search: \u001b[0m\u001b[1me\u001b[22m\u001b[0m\u001b[1mr\u001b[22m\u001b[0m\u001b[1mf\u001b[22m \u001b[0m\u001b[1me\u001b[22m\u001b[0m\u001b[1mr\u001b[22m\u001b[0m\u001b[1mf\u001b[22mi \u001b[0m\u001b[1me\u001b[22m\u001b[0m\u001b[1mr\u001b[22m\u001b[0m\u001b[1mf\u001b[22mc \u001b[0m\u001b[1me\u001b[22m\u001b[0m\u001b[1mr\u001b[22m\u001b[0m\u001b[1mf\u001b[22mcx \u001b[0m\u001b[1me\u001b[22m\u001b[0m\u001b[1mr\u001b[22m\u001b[0m\u001b[1mf\u001b[22minv \u001b[0m\u001b[1me\u001b[22m\u001b[0m\u001b[1mr\u001b[22m\u001b[0m\u001b[1mf\u001b[22mcinv Ov\u001b[0m\u001b[1me\u001b[22m\u001b[0m\u001b[1mr\u001b[22m\u001b[0m\u001b[1mf\u001b[22mlowError log\u001b[0m\u001b[1me\u001b[22m\u001b[0m\u001b[1mr\u001b[22m\u001b[0m\u001b[1mf\u001b[22m log\u001b[0m\u001b[1me\u001b[22m\u001b[0m\u001b[1mr\u001b[22m\u001b[0m\u001b[1mf\u001b[22mc log\u001b[0m\u001b[1me\u001b[22m\u001b[0m\u001b[1mr\u001b[22m\u001b[0m\u001b[1mf\u001b[22mcx\n",
      "\n"
     ]
    },
    {
     "data": {
      "text/latex": [
       "\\begin{verbatim}\n",
       "erf(x)\n",
       "\\end{verbatim}\n",
       "Compute the error function of $x$, defined by\n",
       "\n",
       "$$\\operatorname{erf}(x) = \\frac{2}{\\sqrt{\\pi}} \\int_0^x \\exp(-t^2) \\; \\mathrm{d}t\n",
       "\\quad \\text{for} \\quad x \\in \\mathbb{C} \\, .$$\n",
       "\\begin{verbatim}\n",
       "erf(x, y)\n",
       "\\end{verbatim}\n",
       "Accurate version of \\texttt{erf(y) - erf(x)} (for real arguments only).\n",
       "\n",
       "External links: \\href{https://dlmf.nist.gov/7.2.1}{DLMF}, \\href{https://en.wikipedia.org/wiki/Error_function}{Wikipedia}.\n",
       "\n",
       "See also: \\href{@ref erfc}{\\texttt{erfc(x)}}, \\href{@ref erfcx}{\\texttt{erfcx(x)}}, \\href{@ref erfi}{\\texttt{erfi(x)}}, \\href{@ref dawson}{\\texttt{dawson(x)}}, \\href{@ref erfinv}{\\texttt{erfinv(x)}}, \\href{@ref erfcinv}{\\texttt{erfcinv(x)}}.\n",
       "\n",
       "\\section{Implementation by}\n",
       "\\begin{itemize}\n",
       "\\item \\texttt{Float32}/\\texttt{Float64}: C standard math library   \\href{https://en.wikipedia.org/wiki/C_mathematical_functions#libm}{libm}.\n",
       "\n",
       "\n",
       "\\item \\texttt{BigFloat}: C library for multiple-precision floating-point \\href{https://www.mpfr.org/}{MPFR}\n",
       "\n",
       "\\end{itemize}\n"
      ],
      "text/markdown": [
       "```\n",
       "erf(x)\n",
       "```\n",
       "\n",
       "Compute the error function of $x$, defined by\n",
       "\n",
       "$$\n",
       "\\operatorname{erf}(x) = \\frac{2}{\\sqrt{\\pi}} \\int_0^x \\exp(-t^2) \\; \\mathrm{d}t\n",
       "\\quad \\text{for} \\quad x \\in \\mathbb{C} \\, .\n",
       "$$\n",
       "\n",
       "```\n",
       "erf(x, y)\n",
       "```\n",
       "\n",
       "Accurate version of `erf(y) - erf(x)` (for real arguments only).\n",
       "\n",
       "External links: [DLMF](https://dlmf.nist.gov/7.2.1), [Wikipedia](https://en.wikipedia.org/wiki/Error_function).\n",
       "\n",
       "See also: [`erfc(x)`](@ref erfc), [`erfcx(x)`](@ref erfcx), [`erfi(x)`](@ref erfi), [`dawson(x)`](@ref dawson), [`erfinv(x)`](@ref erfinv), [`erfcinv(x)`](@ref erfcinv).\n",
       "\n",
       "# Implementation by\n",
       "\n",
       "  * `Float32`/`Float64`: C standard math library   [libm](https://en.wikipedia.org/wiki/C_mathematical_functions#libm).\n",
       "  * `BigFloat`: C library for multiple-precision floating-point [MPFR](https://www.mpfr.org/)\n"
      ],
      "text/plain": [
       "\u001b[36m  erf(x)\u001b[39m\n",
       "\n",
       "  Compute the error function of \u001b[35mx\u001b[39m, defined by\n",
       "\n",
       "\u001b[35m  \\operatorname{erf}(x) = \\frac{2}{\\sqrt{\\pi}} \\int_0^x \\exp(-t^2) \\; \\mathrm{d}t\u001b[39m\n",
       "\u001b[35m\\quad \\text{for} \\quad x \\in \\mathbb{C} \\, .\u001b[39m\n",
       "\n",
       "\u001b[36m  erf(x, y)\u001b[39m\n",
       "\n",
       "  Accurate version of \u001b[36merf(y) - erf(x)\u001b[39m (for real arguments only).\n",
       "\n",
       "  External links: DLMF (https://dlmf.nist.gov/7.2.1), Wikipedia\n",
       "  (https://en.wikipedia.org/wiki/Error_function).\n",
       "\n",
       "  See also: \u001b[36merfc(x)\u001b[39m, \u001b[36merfcx(x)\u001b[39m, \u001b[36merfi(x)\u001b[39m, \u001b[36mdawson(x)\u001b[39m, \u001b[36merfinv(x)\u001b[39m, \u001b[36merfcinv(x)\u001b[39m.\n",
       "\n",
       "\u001b[1m  Implementation by\u001b[22m\n",
       "\u001b[1m  ≡≡≡≡≡≡≡≡≡≡≡≡≡≡≡≡≡≡≡\u001b[22m\n",
       "\n",
       "    •  \u001b[36mFloat32\u001b[39m/\u001b[36mFloat64\u001b[39m: C standard math library libm\n",
       "       (https://en.wikipedia.org/wiki/C_mathematical_functions#libm).\n",
       "\n",
       "    •  \u001b[36mBigFloat\u001b[39m: C library for multiple-precision floating-point MPFR\n",
       "       (https://www.mpfr.org/)"
      ]
     },
     "execution_count": 42,
     "metadata": {},
     "output_type": "execute_result"
    }
   ],
   "source": [
    "?erf"
   ]
  },
  {
   "cell_type": "code",
   "execution_count": 44,
   "id": "d8bfe7b9",
   "metadata": {},
   "outputs": [
    {
     "name": "stdout",
     "output_type": "stream",
     "text": [
      "search: \u001b[0m\u001b[1me\u001b[22m\u001b[0m\u001b[1mr\u001b[22m\u001b[0m\u001b[1mf\u001b[22m\u001b[0m\u001b[1mc\u001b[22m\u001b[0m\u001b[1mx\u001b[22m log\u001b[0m\u001b[1me\u001b[22m\u001b[0m\u001b[1mr\u001b[22m\u001b[0m\u001b[1mf\u001b[22m\u001b[0m\u001b[1mc\u001b[22m\u001b[0m\u001b[1mx\u001b[22m \u001b[0m\u001b[1me\u001b[22m\u001b[0m\u001b[1mr\u001b[22m\u001b[0m\u001b[1mf\u001b[22m\u001b[0m\u001b[1mc\u001b[22m \u001b[0m\u001b[1me\u001b[22m\u001b[0m\u001b[1mr\u001b[22m\u001b[0m\u001b[1mf\u001b[22m\u001b[0m\u001b[1mc\u001b[22minv log\u001b[0m\u001b[1me\u001b[22m\u001b[0m\u001b[1mr\u001b[22m\u001b[0m\u001b[1mf\u001b[22m\u001b[0m\u001b[1mc\u001b[22m\n",
      "\n"
     ]
    },
    {
     "data": {
      "text/latex": [
       "\\begin{verbatim}\n",
       "erfcx(x)\n",
       "\\end{verbatim}\n",
       "Compute the scaled complementary error function of $x$, defined by\n",
       "\n",
       "$$\\operatorname{erfcx}(x)\n",
       "= e^{x^2} \\operatorname{erfc}(x)\n",
       "\\quad \\text{for} \\quad x \\in \\mathbb{C} \\, .$$\n",
       "This is the accurate version of $e^{x^2} \\operatorname{erfc}(x)$ for large $x$. Note also that $\\operatorname{erfcx}(-ix)$ computes the Faddeeva function \\texttt{w(x)}.\n",
       "\n",
       "External links: \\href{https://dlmf.nist.gov/7.2.3}{DLMF}, \\href{https://en.wikipedia.org/wiki/Error_function#Complementary_error_function}{Wikipedia}.\n",
       "\n",
       "See also: \\href{@ref erfc}{\\texttt{erfc(x)}}.\n",
       "\n",
       "\\section{Implementation by}\n",
       "\\begin{itemize}\n",
       "\\item \\texttt{Float32}/\\texttt{Float64}: C standard math library   \\href{https://en.wikipedia.org/wiki/C_mathematical_functions#libm}{libm}.\n",
       "\n",
       "\n",
       "\\item \\texttt{BigFloat}: MPFR has an open TODO item for this function until then, we use   \\href{https://dlmf.nist.gov/7.12.1}{DLMF 7.12.1} for the tail.\n",
       "\n",
       "\\end{itemize}\n"
      ],
      "text/markdown": [
       "```\n",
       "erfcx(x)\n",
       "```\n",
       "\n",
       "Compute the scaled complementary error function of $x$, defined by\n",
       "\n",
       "$$\n",
       "\\operatorname{erfcx}(x)\n",
       "= e^{x^2} \\operatorname{erfc}(x)\n",
       "\\quad \\text{for} \\quad x \\in \\mathbb{C} \\, .\n",
       "$$\n",
       "\n",
       "This is the accurate version of $e^{x^2} \\operatorname{erfc}(x)$ for large $x$. Note also that $\\operatorname{erfcx}(-ix)$ computes the Faddeeva function `w(x)`.\n",
       "\n",
       "External links: [DLMF](https://dlmf.nist.gov/7.2.3), [Wikipedia](https://en.wikipedia.org/wiki/Error_function#Complementary_error_function).\n",
       "\n",
       "See also: [`erfc(x)`](@ref erfc).\n",
       "\n",
       "# Implementation by\n",
       "\n",
       "  * `Float32`/`Float64`: C standard math library   [libm](https://en.wikipedia.org/wiki/C_mathematical_functions#libm).\n",
       "  * `BigFloat`: MPFR has an open TODO item for this function until then, we use   [DLMF 7.12.1](https://dlmf.nist.gov/7.12.1) for the tail.\n"
      ],
      "text/plain": [
       "\u001b[36m  erfcx(x)\u001b[39m\n",
       "\n",
       "  Compute the scaled complementary error function of \u001b[35mx\u001b[39m, defined by\n",
       "\n",
       "\u001b[35m  \\operatorname{erfcx}(x)\u001b[39m\n",
       "\u001b[35m= e^{x^2} \\operatorname{erfc}(x)\u001b[39m\n",
       "\u001b[35m\\quad \\text{for} \\quad x \\in \\mathbb{C} \\, .\u001b[39m\n",
       "\n",
       "  This is the accurate version of \u001b[35me^{x^2} \\operatorname{erfc}(x)\u001b[39m for large \u001b[35mx\u001b[39m.\n",
       "  Note also that \u001b[35m\\operatorname{erfcx}(-ix)\u001b[39m computes the Faddeeva function\n",
       "  \u001b[36mw(x)\u001b[39m.\n",
       "\n",
       "  External links: DLMF (https://dlmf.nist.gov/7.2.3), Wikipedia\n",
       "  (https://en.wikipedia.org/wiki/Error_function#Complementary_error_function).\n",
       "\n",
       "  See also: \u001b[36merfc(x)\u001b[39m.\n",
       "\n",
       "\u001b[1m  Implementation by\u001b[22m\n",
       "\u001b[1m  ≡≡≡≡≡≡≡≡≡≡≡≡≡≡≡≡≡≡≡\u001b[22m\n",
       "\n",
       "    •  \u001b[36mFloat32\u001b[39m/\u001b[36mFloat64\u001b[39m: C standard math library libm\n",
       "       (https://en.wikipedia.org/wiki/C_mathematical_functions#libm).\n",
       "\n",
       "    •  \u001b[36mBigFloat\u001b[39m: MPFR has an open TODO item for this function until then,\n",
       "       we use DLMF 7.12.1 (https://dlmf.nist.gov/7.12.1) for the tail."
      ]
     },
     "execution_count": 44,
     "metadata": {},
     "output_type": "execute_result"
    }
   ],
   "source": [
    "?erfcx"
   ]
  },
  {
   "cell_type": "code",
   "execution_count": 62,
   "id": "cd9c6fed",
   "metadata": {},
   "outputs": [
    {
     "data": {
      "text/plain": [
       "tnmean"
      ]
     },
     "execution_count": 62,
     "metadata": {},
     "output_type": "execute_result"
    }
   ],
   "source": [
    "\"\"\"\n",
    "    tnmean(a, b)\n",
    "Mean of the truncated standard normal distribution in the interval [a, b].\n",
    "\"\"\"\n",
    "function tnmean(a::Real, b::Real)\n",
    "    if !(a ≤ b)\n",
    "        return oftype(middle(a, b), NaN)\n",
    "    elseif a == b\n",
    "        return middle(a, b)\n",
    "    elseif abs(a) > abs(b)\n",
    "        return -tnmean(-b, -a)\n",
    "    elseif isinf(a) && isinf(b)\n",
    "        return zero(middle(a, b))\n",
    "    end\n",
    "\n",
    "    @assert a < b && abs(a) ≤ abs(b)\n",
    "    @assert a ≤ 0 ≤ b || 0 < a < b\n",
    "\n",
    "    Δ = (b - a) * middle(a, b)\n",
    "    print(b)\n",
    "    print(a)\n",
    "    println((b - a))\n",
    "    println(middle(a, b))\n",
    "    println(Δ)\n",
    "    #Δ = one(Δm1) + Δm1\n",
    "\n",
    "    if a ≤ 0 ≤ b\n",
    "        m = √(2/π) * expm1(-Δ) * exp(-a^2 / 2) / erf(b/√2, a/√2)\n",
    "    elseif 0 < a < b\n",
    "        z = exp(-Δ) * erfcx(b/√2) - erfcx(a/√2)\n",
    "        println(z)\n",
    "        iszero(z) && return middle(a, b)\n",
    "        m = √(2/π) * expm1(-Δ) / z\n",
    "        println(√(2/π) * expm1(-Δ))\n",
    "    end\n",
    "    return clamp(m, a, b)\n",
    "end\n",
    "\n",
    "\"\"\"\n",
    "    tnmean(a, b, μ, σ)\n",
    "Mean of the truncated normal distribution, where μ, σ are the mean and standard\n",
    "deviation of the untruncated distribution.\n",
    "\"\"\"\n",
    "function tnmean(a, b, μ, σ)\n",
    "    α = (a - μ) / σ\n",
    "    β = (b - μ) / σ\n",
    "    return μ + tnmean(α, β) * σ\n",
    "end"
   ]
  },
  {
   "cell_type": "code",
   "execution_count": 63,
   "id": "8c149455",
   "metadata": {},
   "outputs": [
    {
     "name": "stdout",
     "output_type": "stream",
     "text": [
      "33.0\n",
      "17.166666666666664\n",
      "566.4999999999999\n",
      "-0.6306500398936793\n",
      "-0.7978845608028654\n"
     ]
    },
    {
     "data": {
      "text/plain": [
       "1.7955340220261307"
      ]
     },
     "execution_count": 63,
     "metadata": {},
     "output_type": "execute_result"
    }
   ],
   "source": [
    "tnmean(0, 99, -2, 3)"
   ]
  },
  {
   "cell_type": "code",
   "execution_count": null,
   "id": "090a30e0",
   "metadata": {},
   "outputs": [],
   "source": []
  }
 ],
 "metadata": {
  "kernelspec": {
   "display_name": "Julia 1.7.2",
   "language": "julia",
   "name": "julia-1.7"
  },
  "language_info": {
   "file_extension": ".jl",
   "mimetype": "application/julia",
   "name": "julia",
   "version": "1.7.2"
  }
 },
 "nbformat": 4,
 "nbformat_minor": 5
}
