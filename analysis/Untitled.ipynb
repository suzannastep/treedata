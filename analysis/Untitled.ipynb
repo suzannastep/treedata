{
 "cells": [
  {
   "cell_type": "code",
   "execution_count": 1,
   "id": "259b8ad1",
   "metadata": {},
   "outputs": [],
   "source": [
    "from scipy.special import erfcx"
   ]
  },
  {
   "cell_type": "code",
   "execution_count": 2,
   "id": "2c59a880",
   "metadata": {},
   "outputs": [
    {
     "data": {
      "text/plain": [
       "3.088983659084964e-05"
      ]
     },
     "execution_count": 2,
     "metadata": {},
     "output_type": "execute_result"
    }
   ],
   "source": [
    "erfcx(18264.57)"
   ]
  },
  {
   "cell_type": "code",
   "execution_count": null,
   "id": "f0ffee0c",
   "metadata": {},
   "outputs": [],
   "source": []
  }
 ],
 "metadata": {
  "kernelspec": {
   "display_name": "Python 3 (ipykernel)",
   "language": "python",
   "name": "python3"
  },
  "language_info": {
   "codemirror_mode": {
    "name": "ipython",
    "version": 3
   },
   "file_extension": ".py",
   "mimetype": "text/x-python",
   "name": "python",
   "nbconvert_exporter": "python",
   "pygments_lexer": "ipython3",
   "version": "3.9.7"
  }
 },
 "nbformat": 4,
 "nbformat_minor": 5
}
